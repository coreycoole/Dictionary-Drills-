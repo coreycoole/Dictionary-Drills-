{
 "cells": [
  {
   "cell_type": "markdown",
   "metadata": {},
   "source": [
    "- Implement a binary tree, which is filled with 15 pieces of random data. Your job is to then write a program to traverse the tree using a breadth first traversal. If you want additional practice, try other forms of traversal."
   ]
  },
  {
   "cell_type": "code",
   "execution_count": 19,
   "metadata": {},
   "outputs": [],
   "source": [
    "from binarytree import tree, bst, heap, Node\n",
    "import random as rand"
   ]
  },
  {
   "cell_type": "code",
   "execution_count": 22,
   "metadata": {},
   "outputs": [
    {
     "name": "stdout",
     "output_type": "stream",
     "text": [
      "\n",
      "          ________91________\n",
      "         /                  \\\n",
      "     ___3___             ____55__\n",
      "    /       \\           /        \\\n",
      "  _6        _59        49         66\n",
      " /  \\      /   \\      /  \\       /  \\\n",
      "44   56   61    7    1    55    4    28\n",
      "\n"
     ]
    }
   ],
   "source": [
    "root = Node(rand.choice(range(100)))\n",
    "\n",
    "root.left = Node(rand.choice(range(100)))\n",
    "root.right = Node(rand.choice(range(100)))\n",
    "\n",
    "root.left.left = Node(rand.choice(range(100)))\n",
    "root.left.right = Node(rand.choice(range(100)))\n",
    "\n",
    "root.right.left = Node(rand.choice(range(100)))\n",
    "root.right.right = Node(rand.choice(range(100)))\n",
    "\n",
    "root.left.left.left = Node(rand.choice(range(100)))\n",
    "root.left.left.right = Node(rand.choice(range(100)))\n",
    "\n",
    "root.left.right.left = Node(rand.choice(range(100)))\n",
    "root.left.right.right = Node(rand.choice(range(100)))\n",
    "\n",
    "root.right.left.left = Node(rand.choice(range(100)))\n",
    "root.right.left.right = Node(rand.choice(range(100)))\n",
    "\n",
    "root.right.right.left = Node(rand.choice(range(100)))\n",
    "root.right.right.right = Node(rand.choice(range(100)))\n",
    "\n",
    "\n",
    "print(root)"
   ]
  },
  {
   "cell_type": "code",
   "execution_count": 23,
   "metadata": {},
   "outputs": [
    {
     "name": "stdout",
     "output_type": "stream",
     "text": [
      "[Node(91), Node(3), Node(55), Node(6), Node(59), Node(49), Node(66), Node(44), Node(56), Node(61), Node(7), Node(1), Node(55), Node(4), Node(28)]\n"
     ]
    }
   ],
   "source": [
    "#Breadth First(in order) Traversal\n",
    "\n",
    "print(root.levelorder)"
   ]
  },
  {
   "cell_type": "code",
   "execution_count": 25,
   "metadata": {},
   "outputs": [
    {
     "name": "stdout",
     "output_type": "stream",
     "text": [
      "[Node(91), Node(3), Node(6), Node(44), Node(56), Node(59), Node(61), Node(7), Node(55), Node(49), Node(1), Node(55), Node(66), Node(4), Node(28)]\n"
     ]
    }
   ],
   "source": [
    "#Pre-order (depth first) Traversal\n",
    "\n",
    "print(root.preorder)"
   ]
  },
  {
   "cell_type": "code",
   "execution_count": 26,
   "metadata": {},
   "outputs": [
    {
     "name": "stdout",
     "output_type": "stream",
     "text": [
      "[Node(44), Node(56), Node(6), Node(61), Node(7), Node(59), Node(3), Node(1), Node(55), Node(49), Node(4), Node(28), Node(66), Node(55), Node(91)]\n"
     ]
    }
   ],
   "source": [
    "#Post-order Traversal \n",
    "\n",
    "print(root.postorder)"
   ]
  },
  {
   "cell_type": "code",
   "execution_count": null,
   "metadata": {},
   "outputs": [],
   "source": []
  }
 ],
 "metadata": {
  "kernelspec": {
   "display_name": "Python 3",
   "language": "python",
   "name": "python3"
  },
  "language_info": {
   "codemirror_mode": {
    "name": "ipython",
    "version": 3
   },
   "file_extension": ".py",
   "mimetype": "text/x-python",
   "name": "python",
   "nbconvert_exporter": "python",
   "pygments_lexer": "ipython3",
   "version": "3.7.1"
  }
 },
 "nbformat": 4,
 "nbformat_minor": 2
}
