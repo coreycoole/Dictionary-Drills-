{
 "cells": [
  {
   "cell_type": "code",
   "execution_count": 1,
   "metadata": {},
   "outputs": [],
   "source": [
    "import pandas as pd\n",
    "import numpy as np\n",
    "import matplotlib.pyplot as plt\n",
    "\n",
    "import scipy.stats as stats\n",
    "%matplotlib inline"
   ]
  },
  {
   "cell_type": "code",
   "execution_count": 2,
   "metadata": {},
   "outputs": [],
   "source": [
    "df_ess = pd.read_csv('ESSdata_Thinkful.csv', sep=',')"
   ]
  },
  {
   "cell_type": "code",
   "execution_count": 3,
   "metadata": {
    "scrolled": false
   },
   "outputs": [
    {
     "data": {
      "text/html": [
       "<div>\n",
       "<style scoped>\n",
       "    .dataframe tbody tr th:only-of-type {\n",
       "        vertical-align: middle;\n",
       "    }\n",
       "\n",
       "    .dataframe tbody tr th {\n",
       "        vertical-align: top;\n",
       "    }\n",
       "\n",
       "    .dataframe thead th {\n",
       "        text-align: right;\n",
       "    }\n",
       "</style>\n",
       "<table border=\"1\" class=\"dataframe\">\n",
       "  <thead>\n",
       "    <tr style=\"text-align: right;\">\n",
       "      <th></th>\n",
       "      <th>cntry</th>\n",
       "      <th>idno</th>\n",
       "      <th>year</th>\n",
       "      <th>tvtot</th>\n",
       "      <th>ppltrst</th>\n",
       "      <th>pplfair</th>\n",
       "      <th>pplhlp</th>\n",
       "      <th>happy</th>\n",
       "      <th>sclmeet</th>\n",
       "      <th>sclact</th>\n",
       "      <th>gndr</th>\n",
       "      <th>agea</th>\n",
       "      <th>partner</th>\n",
       "    </tr>\n",
       "  </thead>\n",
       "  <tbody>\n",
       "    <tr>\n",
       "      <th>0</th>\n",
       "      <td>Switzerland</td>\n",
       "      <td>5.0</td>\n",
       "      <td>2012</td>\n",
       "      <td>3.0</td>\n",
       "      <td>3.0</td>\n",
       "      <td>10.0</td>\n",
       "      <td>5.0</td>\n",
       "      <td>8.0</td>\n",
       "      <td>5.0</td>\n",
       "      <td>4.0</td>\n",
       "      <td>Female</td>\n",
       "      <td>60.0</td>\n",
       "      <td>Together</td>\n",
       "    </tr>\n",
       "    <tr>\n",
       "      <th>1</th>\n",
       "      <td>Switzerland</td>\n",
       "      <td>25.0</td>\n",
       "      <td>2012</td>\n",
       "      <td>6.0</td>\n",
       "      <td>5.0</td>\n",
       "      <td>7.0</td>\n",
       "      <td>5.0</td>\n",
       "      <td>9.0</td>\n",
       "      <td>3.0</td>\n",
       "      <td>2.0</td>\n",
       "      <td>Female</td>\n",
       "      <td>59.0</td>\n",
       "      <td>Together</td>\n",
       "    </tr>\n",
       "    <tr>\n",
       "      <th>2</th>\n",
       "      <td>Switzerland</td>\n",
       "      <td>26.0</td>\n",
       "      <td>2012</td>\n",
       "      <td>1.0</td>\n",
       "      <td>8.0</td>\n",
       "      <td>8.0</td>\n",
       "      <td>8.0</td>\n",
       "      <td>7.0</td>\n",
       "      <td>6.0</td>\n",
       "      <td>3.0</td>\n",
       "      <td>Male</td>\n",
       "      <td>24.0</td>\n",
       "      <td>Alone</td>\n",
       "    </tr>\n",
       "    <tr>\n",
       "      <th>3</th>\n",
       "      <td>Switzerland</td>\n",
       "      <td>28.0</td>\n",
       "      <td>2012</td>\n",
       "      <td>4.0</td>\n",
       "      <td>6.0</td>\n",
       "      <td>6.0</td>\n",
       "      <td>7.0</td>\n",
       "      <td>10.0</td>\n",
       "      <td>6.0</td>\n",
       "      <td>2.0</td>\n",
       "      <td>Female</td>\n",
       "      <td>64.0</td>\n",
       "      <td>Together</td>\n",
       "    </tr>\n",
       "    <tr>\n",
       "      <th>4</th>\n",
       "      <td>Switzerland</td>\n",
       "      <td>29.0</td>\n",
       "      <td>2012</td>\n",
       "      <td>5.0</td>\n",
       "      <td>6.0</td>\n",
       "      <td>7.0</td>\n",
       "      <td>5.0</td>\n",
       "      <td>8.0</td>\n",
       "      <td>7.0</td>\n",
       "      <td>2.0</td>\n",
       "      <td>Female</td>\n",
       "      <td>55.0</td>\n",
       "      <td>Together</td>\n",
       "    </tr>\n",
       "  </tbody>\n",
       "</table>\n",
       "</div>"
      ],
      "text/plain": [
       "         cntry  idno  year  tvtot  ppltrst  pplfair  pplhlp  happy  sclmeet  \\\n",
       "0  Switzerland   5.0  2012    3.0      3.0     10.0     5.0    8.0      5.0   \n",
       "1  Switzerland  25.0  2012    6.0      5.0      7.0     5.0    9.0      3.0   \n",
       "2  Switzerland  26.0  2012    1.0      8.0      8.0     8.0    7.0      6.0   \n",
       "3  Switzerland  28.0  2012    4.0      6.0      6.0     7.0   10.0      6.0   \n",
       "4  Switzerland  29.0  2012    5.0      6.0      7.0     5.0    8.0      7.0   \n",
       "\n",
       "   sclact    gndr  agea   partner  \n",
       "0     4.0  Female  60.0  Together  \n",
       "1     2.0  Female  59.0  Together  \n",
       "2     3.0    Male  24.0     Alone  \n",
       "3     2.0  Female  64.0  Together  \n",
       "4     2.0  Female  55.0  Together  "
      ]
     },
     "execution_count": 3,
     "metadata": {},
     "output_type": "execute_result"
    }
   ],
   "source": [
    "# Replace dataframe values with actual values for better visualization\n",
    "df_ess['year'] = df_ess['year'].map({6: 2012, 7: 2014})\n",
    "df_ess['gndr'] = df_ess['gndr'].map({1: 'Male', 2: 'Female'})\n",
    "df_ess['partner'] = df_ess['partner'].map({1: 'Together', 2: 'Alone'})\n",
    "df_ess['cntry'] = df_ess['cntry'].map({'CH': 'Switzerland',\n",
    "                                'CZ': 'Czech Republic',\n",
    "                                'DE': 'Denmark',\n",
    "                                'ES': 'Spain',\n",
    "                                'NO': 'Norway',\n",
    "                                'SE': 'Sweden'})\n",
    "\n",
    "df_ess.head()"
   ]
  },
  {
   "cell_type": "markdown",
   "metadata": {},
   "source": [
    "## 1) Did people become less trusting from 2012 to 2014? Compute results for each country in the sample."
   ]
  },
  {
   "cell_type": "code",
   "execution_count": 51,
   "metadata": {},
   "outputs": [
    {
     "data": {
      "text/plain": [
       "array([[<matplotlib.axes._subplots.AxesSubplot object at 0x1a1c304358>,\n",
       "        <matplotlib.axes._subplots.AxesSubplot object at 0x1194cc080>,\n",
       "        <matplotlib.axes._subplots.AxesSubplot object at 0x108ad8978>],\n",
       "       [<matplotlib.axes._subplots.AxesSubplot object at 0x11a6b2080>,\n",
       "        <matplotlib.axes._subplots.AxesSubplot object at 0x11a748b70>,\n",
       "        <matplotlib.axes._subplots.AxesSubplot object at 0x119facf60>],\n",
       "       [<matplotlib.axes._subplots.AxesSubplot object at 0x11a5b1da0>,\n",
       "        <matplotlib.axes._subplots.AxesSubplot object at 0x1a1c25b390>,\n",
       "        <matplotlib.axes._subplots.AxesSubplot object at 0x1a1c25b3c8>],\n",
       "       [<matplotlib.axes._subplots.AxesSubplot object at 0x1a1c2bfe48>,\n",
       "        <matplotlib.axes._subplots.AxesSubplot object at 0x1a1c327400>,\n",
       "        <matplotlib.axes._subplots.AxesSubplot object at 0x11a801978>]],\n",
       "      dtype=object)"
      ]
     },
     "execution_count": 51,
     "metadata": {},
     "output_type": "execute_result"
    },
    {
     "data": {
      "image/png": "[encoded data removed]",
      "text/plain": [
       "<Figure size 864x1296 with 12 Axes>"
      ]
     },
     "metadata": {
      "needs_background": "light"
     },
     "output_type": "display_data"
    }
   ],
   "source": [
    "plt.rcParams['figure.figsize'] = [12,18]\n",
    "\n",
    "df_ess.hist(by=['cntry', 'year'], column='ppltrst')"
   ]
  },
  {
   "cell_type": "code",
   "execution_count": 6,
   "metadata": {},
   "outputs": [
    {
     "name": "stdout",
     "output_type": "stream",
     "text": [
      "Switzerland\n",
      "\n",
      "  Statistics=0.952, p=0.000\n",
      "  Sample does not look Gaussian (reject H0)\n",
      "\n",
      "  Statistics=0.955, p=0.000\n",
      "  Sample does not look Gaussian (reject H0)\n",
      "\n",
      "Czech Republic\n",
      "\n",
      "  Statistics=0.968, p=0.000\n",
      "  Sample does not look Gaussian (reject H0)\n",
      "\n",
      "  Statistics=0.972, p=0.000\n",
      "  Sample does not look Gaussian (reject H0)\n",
      "\n",
      "Denmark\n",
      "\n",
      "  Statistics=0.893, p=0.107\n",
      "  Sample looks Gaussian (fail to reject H0)\n",
      "\n",
      "  Statistics=0.943, p=0.452\n",
      "  Sample looks Gaussian (fail to reject H0)\n",
      "\n",
      "Spain\n",
      "\n",
      "  Statistics=0.949, p=0.000\n",
      "  Sample does not look Gaussian (reject H0)\n",
      "\n",
      "  Statistics=0.966, p=0.000\n",
      "  Sample does not look Gaussian (reject H0)\n",
      "\n",
      "Norway\n",
      "\n",
      "  Statistics=0.921, p=0.000\n",
      "  Sample does not look Gaussian (reject H0)\n",
      "\n",
      "  Statistics=0.929, p=0.000\n",
      "  Sample does not look Gaussian (reject H0)\n",
      "\n",
      "Sweden\n",
      "\n",
      "  Statistics=0.937, p=0.000\n",
      "  Sample does not look Gaussian (reject H0)\n",
      "\n",
      "  Statistics=0.938, p=0.000\n",
      "  Sample does not look Gaussian (reject H0)\n",
      "\n"
     ]
    }
   ],
   "source": [
    "df_ess_dropna = df_ess.dropna()\n",
    "\n",
    "country_list = ['Switzerland', 'Czech Republic', 'Denmark', 'Spain', 'Norway', 'Sweden']\n",
    "years = [2012,2014]\n",
    "alpha = 0.05\n",
    "\n",
    "for country in country_list:\n",
    "    df = df_ess_dropna[df_ess_dropna['cntry']==country]\n",
    "    print(country)\n",
    "    print()\n",
    "    for year in years:\n",
    "        stat, p = stats.shapiro(df['ppltrst'][df['year']==year])\n",
    "        print('  Statistics=%.3f, p=%.3f' % (stat, p))\n",
    "        # interpret\n",
    "        \n",
    "        if p > alpha:\n",
    "            print('  Sample looks Gaussian (fail to reject H0)\\n')\n",
    "        else:\n",
    "            print('  Sample does not look Gaussian (reject H0)\\n')"
   ]
  },
  {
   "cell_type": "markdown",
   "metadata": {},
   "source": [
    "- From the histogram analysis and shapiro-wilks test, we see that only data from Denmark could be said to come from a normal distribution. Thus we must use only non-parametric tests to compare the trust data between the countries. \n",
    "\n",
    "- To test the dependent groups within each country, the Wilcoxon Signed-Rank test is used. \n",
    "\n",
    "A non-parametric statistical hypothesis test used to compare two related samples, matched samples, or repeated measurements on a single sample to assess whether their population mean ranks differ (i.e. it is a paired difference test).\n",
    "\n",
    "\n",
    "The hypothesis being test is:\n",
    "\n",
    "Null hypothesis (H0): The difference between the pairs follows a symmetric distribution around zero.\n",
    "\n",
    "Alternative hypothesis (HA): The difference between the pairs does not follow a symmetric distribution around zero.\n",
    "\n",
    "If the p-value is less than what is tested at, most commonly 0.05, one can reject the null hypothesis."
   ]
  },
  {
   "cell_type": "code",
   "execution_count": 217,
   "metadata": {
    "scrolled": false
   },
   "outputs": [
    {
     "name": "stdout",
     "output_type": "stream",
     "text": [
      "Switzerland\n",
      "\n",
      "  Statistics=106278.500, p=0.441\n",
      "  No statistical difference in distribution  (fail to reject H0)\n",
      "\n",
      "Czech Republic\n",
      "\n",
      "  Statistics=82837.000, p=0.293\n",
      "  No statistical difference in distribution  (fail to reject H0)\n",
      "\n",
      "Denmark\n",
      "\n",
      "  Statistics=44.000, p=0.916\n",
      "  No statistical difference in distribution  (fail to reject H0)\n",
      "\n",
      "Spain\n",
      "\n",
      "  Statistics=243475.500, p=0.006\n",
      "  Statistical difference in distribution (reject H0)\n",
      "\n",
      "Norway\n",
      "\n",
      "  Statistics=85392.000, p=0.614\n",
      "  No statistical difference in distribution  (fail to reject H0)\n",
      "\n",
      "Sweden\n",
      "\n",
      "  Statistics=130719.500, p=0.029\n",
      "  Statistical difference in distribution (reject H0)\n",
      "\n"
     ]
    }
   ],
   "source": [
    "country_list = ['Switzerland', 'Czech Republic', 'Denmark', 'Spain', 'Norway', 'Sweden']\n",
    "\n",
    "alpha = 0.05\n",
    "\n",
    "for country in country_list:\n",
    "    df = df_ess[df_ess['cntry']==country]\n",
    "    \n",
    "    df_2012 = df[df['year']==2012]\n",
    "    df_2014 = df[df['year']==2014]\n",
    "\n",
    "    print(country)\n",
    "    print()\n",
    "\n",
    "    stat, p = stats.wilcoxon(df_2012['ppltrst'],df_2014['ppltrst'])\n",
    "    print('  Statistics=%.3f, p=%.3f' % (stat, p))\n",
    "    # interpret\n",
    "        \n",
    "    if p > alpha:\n",
    "        print('  No statistical difference in distribution  (fail to reject H0)\\n')\n",
    "    else:\n",
    "        print('  Statistical difference in distribution (reject H0)\\n')"
   ]
  },
  {
   "cell_type": "markdown",
   "metadata": {},
   "source": [
    "- From the Wilcoxon Signed-Rank test we see that the countries of Spain and Sweden can say that there exist a statistically significant difference between the 2012 and 2014 levels of trust. "
   ]
  },
  {
   "cell_type": "code",
   "execution_count": 19,
   "metadata": {},
   "outputs": [
    {
     "name": "stdout",
     "output_type": "stream",
     "text": [
      "Spain\n",
      "\n",
      "0.2194639274634893\n",
      "\n",
      "  Net trust increased between years.\n",
      "\n",
      "Sweden\n",
      "\n",
      "-0.19921035485408023\n",
      "\n",
      "  Net trust decreased between years.\n",
      "\n"
     ]
    }
   ],
   "source": [
    "country_list = ['Spain','Sweden']\n",
    "\n",
    "for country in country_list:\n",
    "    df = df_ess[df_ess['cntry']==country]\n",
    "    \n",
    "    df_2012 = df[df['year']==2012]\n",
    "    df_2014 = df[df['year']==2014]\n",
    "\n",
    "    print(country)\n",
    "    print()\n",
    "\n",
    "    diff = df_2012['ppltrst'].mean() - df_2014['ppltrst'].mean()\n",
    "    # interpret\n",
    "    print(diff) \n",
    "    print()\n",
    "    if diff > 0:\n",
    "        print('  Net trust increased between years.\\n')\n",
    "    else:\n",
    "        print('  Net trust decreased between years.\\n')"
   ]
  },
  {
   "cell_type": "markdown",
   "metadata": {},
   "source": [
    "- We see that trust averages increased in Spain, however decreased in Sweden."
   ]
  },
  {
   "cell_type": "markdown",
   "metadata": {},
   "source": [
    "## 2) Did people become happier from 2012 to 2014? Compute results for each country in the sample."
   ]
  },
  {
   "cell_type": "markdown",
   "metadata": {},
   "source": [
    "-  Similarly to the previous question, the data will be tested for normality and then compared with an appropriate test."
   ]
  },
  {
   "cell_type": "code",
   "execution_count": 4,
   "metadata": {},
   "outputs": [
    {
     "data": {
      "text/plain": [
       "array([[<matplotlib.axes._subplots.AxesSubplot object at 0x1a2302fa58>,\n",
       "        <matplotlib.axes._subplots.AxesSubplot object at 0x10f18ab70>,\n",
       "        <matplotlib.axes._subplots.AxesSubplot object at 0x1a2222e128>],\n",
       "       [<matplotlib.axes._subplots.AxesSubplot object at 0x1a223586a0>,\n",
       "        <matplotlib.axes._subplots.AxesSubplot object at 0x1a2237dc18>,\n",
       "        <matplotlib.axes._subplots.AxesSubplot object at 0x1a223ab1d0>],\n",
       "       [<matplotlib.axes._subplots.AxesSubplot object at 0x1a223cd748>,\n",
       "        <matplotlib.axes._subplots.AxesSubplot object at 0x1a223f6cf8>,\n",
       "        <matplotlib.axes._subplots.AxesSubplot object at 0x1a223f6d30>],\n",
       "       [<matplotlib.axes._subplots.AxesSubplot object at 0x1a224497f0>,\n",
       "        <matplotlib.axes._subplots.AxesSubplot object at 0x1a22473d68>,\n",
       "        <matplotlib.axes._subplots.AxesSubplot object at 0x1a224a4320>]],\n",
       "      dtype=object)"
      ]
     },
     "execution_count": 4,
     "metadata": {},
     "output_type": "execute_result"
    },
    {
     "data": {
      "image/png": "[encoded data removed]",
      "text/plain": [
       "<Figure size 864x1296 with 12 Axes>"
      ]
     },
     "metadata": {
      "needs_background": "light"
     },
     "output_type": "display_data"
    }
   ],
   "source": [
    "plt.rcParams['figure.figsize'] = [12,18]\n",
    "\n",
    "df_ess.hist(by=['cntry', 'year'], column='happy')"
   ]
  },
  {
   "cell_type": "markdown",
   "metadata": {},
   "source": [
    "- Upon inspection, none of the country distributions look anywhere near normal, however lets run a shapiro -wilks test to put a measure to it."
   ]
  },
  {
   "cell_type": "code",
   "execution_count": 7,
   "metadata": {},
   "outputs": [
    {
     "name": "stdout",
     "output_type": "stream",
     "text": [
      "Switzerland\n",
      "\n",
      "  Statistics=0.877, p=0.000\n",
      "  Sample does not look Gaussian (reject H0)\n",
      "\n",
      "  Statistics=0.895, p=0.000\n",
      "  Sample does not look Gaussian (reject H0)\n",
      "\n",
      "Czech Republic\n",
      "\n",
      "  Statistics=0.946, p=0.000\n",
      "  Sample does not look Gaussian (reject H0)\n",
      "\n",
      "  Statistics=0.945, p=0.000\n",
      "  Sample does not look Gaussian (reject H0)\n",
      "\n",
      "Denmark\n",
      "\n",
      "  Statistics=0.916, p=0.222\n",
      "  Sample looks Gaussian (fail to reject H0)\n",
      "\n",
      "  Statistics=0.921, p=0.230\n",
      "  Sample looks Gaussian (fail to reject H0)\n",
      "\n",
      "Spain\n",
      "\n",
      "  Statistics=0.905, p=0.000\n",
      "  Sample does not look Gaussian (reject H0)\n",
      "\n",
      "  Statistics=0.914, p=0.000\n",
      "  Sample does not look Gaussian (reject H0)\n",
      "\n",
      "Norway\n",
      "\n",
      "  Statistics=0.850, p=0.000\n",
      "  Sample does not look Gaussian (reject H0)\n",
      "\n",
      "  Statistics=0.880, p=0.000\n",
      "  Sample does not look Gaussian (reject H0)\n",
      "\n",
      "Sweden\n",
      "\n",
      "  Statistics=0.903, p=0.000\n",
      "  Sample does not look Gaussian (reject H0)\n",
      "\n",
      "  Statistics=0.912, p=0.000\n",
      "  Sample does not look Gaussian (reject H0)\n",
      "\n"
     ]
    }
   ],
   "source": [
    "for country in country_list:\n",
    "    df = df_ess_dropna[df_ess_dropna['cntry']==country]\n",
    "    print(country)\n",
    "    print()\n",
    "    for year in years:\n",
    "        stat, p = stats.shapiro(df['happy'][df['year']==year])\n",
    "        print('  Statistics=%.3f, p=%.3f' % (stat, p))\n",
    "        # interpret\n",
    "        \n",
    "        if p > alpha:\n",
    "            print('  Sample looks Gaussian (fail to reject H0)\\n')\n",
    "        else:\n",
    "            print('  Sample does not look Gaussian (reject H0)\\n')"
   ]
  },
  {
   "cell_type": "markdown",
   "metadata": {},
   "source": [
    "- As expected, only one country, Denamrk could be said to be derived from a normal distribution. Since the majority of countries are not Gaussian in form, we will apply a non parametric test, the Wilcoxon Signed-Rank test to compare happiness features within their respective countries."
   ]
  },
  {
   "cell_type": "code",
   "execution_count": 8,
   "metadata": {},
   "outputs": [
    {
     "name": "stdout",
     "output_type": "stream",
     "text": [
      "Switzerland\n",
      "\n",
      "  Statistics=92816.500, p=0.821\n",
      "  No statistical difference in distribution  (fail to reject H0)\n",
      "\n",
      "Czech Republic\n",
      "\n",
      "  Statistics=73213.000, p=0.011\n",
      "  Statistical difference in distribution (reject H0)\n",
      "\n",
      "Denmark\n",
      "\n",
      "  Statistics=23.500, p=0.393\n",
      "  No statistical difference in distribution  (fail to reject H0)\n",
      "\n",
      "Spain\n",
      "\n",
      "  Statistics=231958.500, p=0.049\n",
      "  Statistical difference in distribution (reject H0)\n",
      "\n",
      "Norway\n",
      "\n",
      "  Statistics=67571.500, p=0.000\n",
      "  Statistical difference in distribution (reject H0)\n",
      "\n",
      "Sweden\n",
      "\n",
      "  Statistics=125481.000, p=0.514\n",
      "  No statistical difference in distribution  (fail to reject H0)\n",
      "\n"
     ]
    },
    {
     "name": "stderr",
     "output_type": "stream",
     "text": [
      "/Users/coreycoole/anaconda3/lib/python3.7/site-packages/scipy/stats/morestats.py:2391: RuntimeWarning: invalid value encountered in greater\n",
      "  r_plus = np.sum((d > 0) * r, axis=0)\n",
      "/Users/coreycoole/anaconda3/lib/python3.7/site-packages/scipy/stats/morestats.py:2392: RuntimeWarning: invalid value encountered in less\n",
      "  r_minus = np.sum((d < 0) * r, axis=0)\n"
     ]
    }
   ],
   "source": [
    "for country in country_list:\n",
    "    df = df_ess[df_ess['cntry']==country]\n",
    "    \n",
    "    df_2012 = df[df['year']==2012]\n",
    "    df_2014 = df[df['year']==2014]\n",
    "\n",
    "    print(country)\n",
    "    print()\n",
    "\n",
    "    stat, p = stats.wilcoxon(df_2012['happy'],df_2014['happy'])\n",
    "    print('  Statistics=%.3f, p=%.3f' % (stat, p))\n",
    "    # interpret\n",
    "        \n",
    "    if p > alpha:\n",
    "        print('  No statistical difference in distribution  (fail to reject H0)\\n')\n",
    "    else:\n",
    "        print('  Statistical difference in distribution (reject H0)\\n')"
   ]
  },
  {
   "cell_type": "markdown",
   "metadata": {},
   "source": [
    "- From the Wilcoxon test we see that the Czech Republic, Spain, and Norway have statistically significant differences between the happiness records of the years of 2012 and 2014.\n",
    "\n",
    "- lets take an average from each year to see if the trends of happiness decreased or increased."
   ]
  },
  {
   "cell_type": "code",
   "execution_count": 17,
   "metadata": {
    "scrolled": true
   },
   "outputs": [
    {
     "name": "stdout",
     "output_type": "stream",
     "text": [
      "Czech Republic\n",
      "\n",
      "-0.1432125966305149\n",
      "\n",
      "  Net happiness decreased between years.\n",
      "\n",
      "Norway\n",
      "\n",
      "0.33653471625046905\n",
      "\n",
      "  Net happiness increased between years.\n",
      "\n",
      "Spain\n",
      "\n",
      "0.12871287128712883\n",
      "\n",
      "  Net happiness increased between years.\n",
      "\n"
     ]
    }
   ],
   "source": [
    "country_list = ['Czech Republic','Norway','Spain']\n",
    "\n",
    "for country in country_list:\n",
    "    df = df_ess[df_ess['cntry']==country]\n",
    "    \n",
    "    df_2012 = df[df['year']==2012]\n",
    "    df_2014 = df[df['year']==2014]\n",
    "\n",
    "    print(country)\n",
    "    print()\n",
    "\n",
    "    diff = df_2012['happy'].mean() - df_2014['happy'].mean()\n",
    "    # interpret\n",
    "    print(diff) \n",
    "    print()\n",
    "    if diff > 0:\n",
    "        print('  Net happiness increased between years.\\n')\n",
    "    else:\n",
    "        print('  Net happiness decreased between years.\\n')"
   ]
  },
  {
   "cell_type": "markdown",
   "metadata": {},
   "source": [
    "- We see that Spain and Norway saw increases in happiness averages from 2012 and 2014, however the Czech Republic saw a decrease."
   ]
  },
  {
   "cell_type": "markdown",
   "metadata": {},
   "source": [
    "## 3) Who reported watching more TV in 2012, men or women?"
   ]
  },
  {
   "cell_type": "code",
   "execution_count": 4,
   "metadata": {},
   "outputs": [
    {
     "data": {
      "text/html": [
       "<div>\n",
       "<style scoped>\n",
       "    .dataframe tbody tr th:only-of-type {\n",
       "        vertical-align: middle;\n",
       "    }\n",
       "\n",
       "    .dataframe tbody tr th {\n",
       "        vertical-align: top;\n",
       "    }\n",
       "\n",
       "    .dataframe thead th {\n",
       "        text-align: right;\n",
       "    }\n",
       "</style>\n",
       "<table border=\"1\" class=\"dataframe\">\n",
       "  <thead>\n",
       "    <tr style=\"text-align: right;\">\n",
       "      <th></th>\n",
       "      <th>cntry</th>\n",
       "      <th>idno</th>\n",
       "      <th>year</th>\n",
       "      <th>tvtot</th>\n",
       "      <th>ppltrst</th>\n",
       "      <th>pplfair</th>\n",
       "      <th>pplhlp</th>\n",
       "      <th>happy</th>\n",
       "      <th>sclmeet</th>\n",
       "      <th>sclact</th>\n",
       "      <th>gndr</th>\n",
       "      <th>agea</th>\n",
       "      <th>partner</th>\n",
       "    </tr>\n",
       "  </thead>\n",
       "  <tbody>\n",
       "    <tr>\n",
       "      <th>0</th>\n",
       "      <td>Switzerland</td>\n",
       "      <td>5.0</td>\n",
       "      <td>2012</td>\n",
       "      <td>3.0</td>\n",
       "      <td>3.0</td>\n",
       "      <td>10.0</td>\n",
       "      <td>5.0</td>\n",
       "      <td>8.0</td>\n",
       "      <td>5.0</td>\n",
       "      <td>4.0</td>\n",
       "      <td>Female</td>\n",
       "      <td>60.0</td>\n",
       "      <td>Together</td>\n",
       "    </tr>\n",
       "    <tr>\n",
       "      <th>1</th>\n",
       "      <td>Switzerland</td>\n",
       "      <td>25.0</td>\n",
       "      <td>2012</td>\n",
       "      <td>6.0</td>\n",
       "      <td>5.0</td>\n",
       "      <td>7.0</td>\n",
       "      <td>5.0</td>\n",
       "      <td>9.0</td>\n",
       "      <td>3.0</td>\n",
       "      <td>2.0</td>\n",
       "      <td>Female</td>\n",
       "      <td>59.0</td>\n",
       "      <td>Together</td>\n",
       "    </tr>\n",
       "    <tr>\n",
       "      <th>2</th>\n",
       "      <td>Switzerland</td>\n",
       "      <td>26.0</td>\n",
       "      <td>2012</td>\n",
       "      <td>1.0</td>\n",
       "      <td>8.0</td>\n",
       "      <td>8.0</td>\n",
       "      <td>8.0</td>\n",
       "      <td>7.0</td>\n",
       "      <td>6.0</td>\n",
       "      <td>3.0</td>\n",
       "      <td>Male</td>\n",
       "      <td>24.0</td>\n",
       "      <td>Alone</td>\n",
       "    </tr>\n",
       "    <tr>\n",
       "      <th>3</th>\n",
       "      <td>Switzerland</td>\n",
       "      <td>28.0</td>\n",
       "      <td>2012</td>\n",
       "      <td>4.0</td>\n",
       "      <td>6.0</td>\n",
       "      <td>6.0</td>\n",
       "      <td>7.0</td>\n",
       "      <td>10.0</td>\n",
       "      <td>6.0</td>\n",
       "      <td>2.0</td>\n",
       "      <td>Female</td>\n",
       "      <td>64.0</td>\n",
       "      <td>Together</td>\n",
       "    </tr>\n",
       "    <tr>\n",
       "      <th>4</th>\n",
       "      <td>Switzerland</td>\n",
       "      <td>29.0</td>\n",
       "      <td>2012</td>\n",
       "      <td>5.0</td>\n",
       "      <td>6.0</td>\n",
       "      <td>7.0</td>\n",
       "      <td>5.0</td>\n",
       "      <td>8.0</td>\n",
       "      <td>7.0</td>\n",
       "      <td>2.0</td>\n",
       "      <td>Female</td>\n",
       "      <td>55.0</td>\n",
       "      <td>Together</td>\n",
       "    </tr>\n",
       "  </tbody>\n",
       "</table>\n",
       "</div>"
      ],
      "text/plain": [
       "         cntry  idno  year  tvtot  ppltrst  pplfair  pplhlp  happy  sclmeet  \\\n",
       "0  Switzerland   5.0  2012    3.0      3.0     10.0     5.0    8.0      5.0   \n",
       "1  Switzerland  25.0  2012    6.0      5.0      7.0     5.0    9.0      3.0   \n",
       "2  Switzerland  26.0  2012    1.0      8.0      8.0     8.0    7.0      6.0   \n",
       "3  Switzerland  28.0  2012    4.0      6.0      6.0     7.0   10.0      6.0   \n",
       "4  Switzerland  29.0  2012    5.0      6.0      7.0     5.0    8.0      7.0   \n",
       "\n",
       "   sclact    gndr  agea   partner  \n",
       "0     4.0  Female  60.0  Together  \n",
       "1     2.0  Female  59.0  Together  \n",
       "2     3.0    Male  24.0     Alone  \n",
       "3     2.0  Female  64.0  Together  \n",
       "4     2.0  Female  55.0  Together  "
      ]
     },
     "execution_count": 4,
     "metadata": {},
     "output_type": "execute_result"
    }
   ],
   "source": [
    "df_2012 = df_ess[df_ess['year']==2012]\n",
    "df_2012.head()"
   ]
  },
  {
   "cell_type": "code",
   "execution_count": 29,
   "metadata": {},
   "outputs": [
    {
     "name": "stdout",
     "output_type": "stream",
     "text": [
      "Female total average: 8441.0\n"
     ]
    }
   ],
   "source": [
    "print('Female total average: {}'.format(df_2012[df_2012['gndr']=='Female']['tvtot'].sum()))"
   ]
  },
  {
   "cell_type": "code",
   "execution_count": 31,
   "metadata": {},
   "outputs": [
    {
     "name": "stdout",
     "output_type": "stream",
     "text": [
      "Male total average: 8393.0\n"
     ]
    }
   ],
   "source": [
    "print('Male total average: {}'.format(df_2012[df_2012['gndr']=='Male']['tvtot'].sum()))"
   ]
  },
  {
   "cell_type": "markdown",
   "metadata": {},
   "source": [
    "- At a glance it seems females watched more tv that males, however we will test if these groups are statistically different to get a better picture. "
   ]
  },
  {
   "cell_type": "code",
   "execution_count": 40,
   "metadata": {},
   "outputs": [
    {
     "name": "stdout",
     "output_type": "stream",
     "text": [
      "Switzerland\n",
      "\n",
      "Male\n",
      "  Statistics=0.947, p=0.000\n",
      "  Sample does not look Gaussian (reject H0)\n",
      "\n",
      "Female\n",
      "  Statistics=0.945, p=0.000\n",
      "  Sample does not look Gaussian (reject H0)\n",
      "\n",
      "Czech Republic\n",
      "\n",
      "Male\n",
      "  Statistics=0.899, p=0.000\n",
      "  Sample does not look Gaussian (reject H0)\n",
      "\n",
      "Female\n",
      "  Statistics=0.886, p=0.000\n",
      "  Sample does not look Gaussian (reject H0)\n",
      "\n",
      "Denmark\n",
      "\n",
      "Male\n",
      "  Statistics=0.900, p=0.184\n",
      "  Sample looks Gaussian (fail to reject H0)\n",
      "\n",
      "Female\n",
      "  Statistics=0.880, p=0.039\n",
      "  Sample does not look Gaussian (reject H0)\n",
      "\n",
      "Spain\n",
      "\n",
      "Male\n",
      "  Statistics=0.935, p=0.000\n",
      "  Sample does not look Gaussian (reject H0)\n",
      "\n",
      "Female\n",
      "  Statistics=0.934, p=0.000\n",
      "  Sample does not look Gaussian (reject H0)\n",
      "\n",
      "Norway\n",
      "\n",
      "Male\n",
      "  Statistics=0.948, p=0.000\n",
      "  Sample does not look Gaussian (reject H0)\n",
      "\n",
      "Female\n",
      "  Statistics=0.950, p=0.000\n",
      "  Sample does not look Gaussian (reject H0)\n",
      "\n",
      "Sweden\n",
      "\n",
      "Male\n",
      "  Statistics=0.956, p=0.000\n",
      "  Sample does not look Gaussian (reject H0)\n",
      "\n",
      "Female\n",
      "  Statistics=0.951, p=0.000\n",
      "  Sample does not look Gaussian (reject H0)\n",
      "\n"
     ]
    }
   ],
   "source": [
    "country_list = ['Switzerland', 'Czech Republic', 'Denmark', 'Spain', 'Norway', 'Sweden']\n",
    "\n",
    "genders = ['Male','Female']\n",
    "\n",
    "for country in country_list:\n",
    "    df = df_ess_dropna[df_ess_dropna['cntry']==country]\n",
    "    print(country)\n",
    "    print()\n",
    "    for gender in genders:\n",
    "        stat, p = stats.shapiro(df['tvtot'][df['gndr']==gender])\n",
    "        print(gender)\n",
    "        print('  Statistics=%.3f, p=%.3f' % (stat, p))\n",
    "        # interpret\n",
    "        \n",
    "        if p > alpha:\n",
    "            print('  Sample looks Gaussian (fail to reject H0)\\n')\n",
    "        else:\n",
    "            print('  Sample does not look Gaussian (reject H0)\\n')"
   ]
  },
  {
   "cell_type": "code",
   "execution_count": 46,
   "metadata": {},
   "outputs": [
    {
     "name": "stdout",
     "output_type": "stream",
     "text": [
      "Switzerland\n",
      "\n",
      "  Statistics=281667.000, p=0.026\n",
      "  Different distribution (reject H0)\n",
      "\n",
      "Czech Republic\n",
      "\n",
      "  Statistics=199064.000, p=0.021\n",
      "  Different distribution (reject H0)\n",
      "\n",
      "Denmark\n",
      "\n",
      "  Statistics=93.500, p=0.462\n",
      "  Same distribution (fail to reject H0)\n",
      "\n",
      "Spain\n",
      "\n",
      "  Statistics=721821.500, p=0.209\n",
      "  Same distribution (fail to reject H0)\n",
      "\n",
      "Norway\n",
      "\n",
      "  Statistics=250741.500, p=0.028\n",
      "  Different distribution (reject H0)\n",
      "\n",
      "Sweden\n",
      "\n",
      "  Statistics=407158.500, p=0.352\n",
      "  Same distribution (fail to reject H0)\n",
      "\n"
     ]
    }
   ],
   "source": [
    "alpha = 0.05\n",
    "\n",
    "for country in country_list:\n",
    "    df = df_ess[df_ess['cntry']==country]\n",
    "    \n",
    "    df_tv_f = df[df['gndr']=='Female']\n",
    "    df_tv_m = df[df['gndr']=='Male']\n",
    "\n",
    "    print(country)\n",
    "    print()\n",
    "\n",
    "    stat, p = stats.mannwhitneyu(df_tv_f['tvtot'], df_tv_m['tvtot'])\n",
    "    print('  Statistics=%.3f, p=%.3f' % (stat, p))\n",
    "    # interpret\n",
    "    alpha = 0.05\n",
    "    if p > alpha:\n",
    "        print('  Same distribution (fail to reject H0)\\n')\n",
    "    else:\n",
    "        print('  Different distribution (reject H0)\\n')"
   ]
  },
  {
   "cell_type": "markdown",
   "metadata": {},
   "source": [
    "- The only statistical diffence in total tv averages are found in Switzerland, Czech Republic, and Norway. \n",
    "\n",
    "- Lets compare the total averages of these countries to see which gender watched more television."
   ]
  },
  {
   "cell_type": "code",
   "execution_count": 49,
   "metadata": {},
   "outputs": [
    {
     "name": "stdout",
     "output_type": "stream",
     "text": [
      "Switzerland\n",
      "Males watched more tv.\n",
      "\n",
      "Czech Republic\n",
      "Females watched more tv.\n",
      "\n",
      "Norway\n",
      "Males watched more tv.\n",
      "\n"
     ]
    }
   ],
   "source": [
    "country_list = ['Switzerland','Czech Republic','Norway']\n",
    "\n",
    "for country in country_list:\n",
    "    df = df_ess[df_ess['cntry']==country]\n",
    "    \n",
    "    df_tv_f = df[df['gndr']=='Female']\n",
    "    df_tv_m = df[df['gndr']=='Male']\n",
    "\n",
    "    print(country)\n",
    "    \n",
    "    \n",
    "    f_total = df_tv_f['tvtot'].sum()\n",
    "    m_total = df_tv_m['tvtot'].sum()\n",
    "    \n",
    "    if f_total > m_total:\n",
    "        print('Females watched more tv.\\n')\n",
    "    else:\n",
    "        print('Males watched more tv.\\n')"
   ]
  },
  {
   "cell_type": "markdown",
   "metadata": {},
   "source": [
    "- We see that Males watched more tv in Switzerland and Norway, however in Czech Republic, femals watched more."
   ]
  },
  {
   "cell_type": "markdown",
   "metadata": {},
   "source": [
    "## 4) Who was more likely to believe people were fair in 2012, people living with a partner or people living alone?"
   ]
  },
  {
   "cell_type": "code",
   "execution_count": 11,
   "metadata": {},
   "outputs": [
    {
     "name": "stdout",
     "output_type": "stream",
     "text": [
      "Switzerland\n",
      "\n",
      "Together\n",
      "  Statistics=nan, p=1.000\n",
      "  Sample looks Gaussian (fail to reject H0)\n",
      "\n",
      "Alone\n",
      "  Statistics=nan, p=1.000\n",
      "  Sample looks Gaussian (fail to reject H0)\n",
      "\n",
      "Czech Republic\n",
      "\n",
      "Together\n",
      "  Statistics=nan, p=1.000\n",
      "  Sample looks Gaussian (fail to reject H0)\n",
      "\n",
      "Alone\n",
      "  Statistics=nan, p=1.000\n",
      "  Sample looks Gaussian (fail to reject H0)\n",
      "\n",
      "Denmark\n",
      "\n",
      "Together\n",
      "  Statistics=nan, p=1.000\n",
      "  Sample looks Gaussian (fail to reject H0)\n",
      "\n",
      "Alone\n",
      "  Statistics=0.852, p=0.201\n",
      "  Sample looks Gaussian (fail to reject H0)\n",
      "\n",
      "Spain\n",
      "\n",
      "Together\n",
      "  Statistics=nan, p=1.000\n",
      "  Sample looks Gaussian (fail to reject H0)\n",
      "\n",
      "Alone\n",
      "  Statistics=0.959, p=0.000\n",
      "  Sample does not look Gaussian (reject H0)\n",
      "\n",
      "Norway\n",
      "\n",
      "Together\n",
      "  Statistics=nan, p=1.000\n",
      "  Sample looks Gaussian (fail to reject H0)\n",
      "\n",
      "Alone\n",
      "  Statistics=0.930, p=0.000\n",
      "  Sample does not look Gaussian (reject H0)\n",
      "\n",
      "Sweden\n",
      "\n",
      "Together\n",
      "  Statistics=nan, p=1.000\n",
      "  Sample looks Gaussian (fail to reject H0)\n",
      "\n",
      "Alone\n",
      "  Statistics=nan, p=1.000\n",
      "  Sample looks Gaussian (fail to reject H0)\n",
      "\n"
     ]
    }
   ],
   "source": [
    "df_2012 = df_ess[df_ess['year']==2012]\n",
    "\n",
    "country_list = ['Switzerland', 'Czech Republic', 'Denmark', 'Spain', 'Norway', 'Sweden']\n",
    "\n",
    "partners = ['Together','Alone']\n",
    "\n",
    "alpha = 0.05\n",
    "\n",
    "for country in country_list:\n",
    "    df = df_2012[df_2012['cntry']==country]\n",
    "    print(country)\n",
    "    print()\n",
    "    for pt in partners:\n",
    "        stat, p = stats.shapiro(df['pplfair'][df['partner']==pt])\n",
    "        print(pt)\n",
    "        print('  Statistics=%.3f, p=%.3f' % (stat, p))\n",
    "        # interpret\n",
    "        \n",
    "        if p > alpha:\n",
    "            print('  Sample looks Gaussian (fail to reject H0)\\n')\n",
    "        else:\n",
    "            print('  Sample does not look Gaussian (reject H0)\\n')"
   ]
  },
  {
   "cell_type": "markdown",
   "metadata": {},
   "source": [
    "- We see that the majority of samples could be said to come from the normal distribution, however both Spain and Norway's 'Alone' destinction do not appear normally distributed. Thusly we will have to compare the fairness feature in these countries non-parametricly."
   ]
  },
  {
   "cell_type": "code",
   "execution_count": 18,
   "metadata": {},
   "outputs": [
    {
     "name": "stdout",
     "output_type": "stream",
     "text": [
      "Switzerland\n",
      "\n",
      "  Statistics=2.207, p=0.028\n",
      "  Different distribution (reject H0)\n",
      "\n",
      "Czech Republic\n",
      "\n",
      "  Statistics=0.592, p=0.554\n",
      "  Same distribution (fail to reject H0)\n",
      "\n",
      "Denmark\n",
      "\n",
      "  Statistics=2.689, p=0.025\n",
      "  Different distribution (reject H0)\n",
      "\n",
      "Sweden\n",
      "\n",
      "  Statistics=2.770, p=0.006\n",
      "  Different distribution (reject H0)\n",
      "\n"
     ]
    }
   ],
   "source": [
    "df_2012_dropnna = df_2012.dropna()\n",
    "\n",
    "country_list = ['Switzerland', 'Czech Republic', 'Denmark', 'Sweden']\n",
    "\n",
    "alpha = 0.05\n",
    "\n",
    "for country in country_list:\n",
    "    df = df_2012_dropna[df_2012_dropna['cntry']==country]\n",
    "    \n",
    "    df_tv_t = df[df['partner']=='Together']\n",
    "    df_tv_a = df[df['partner']=='Alone']\n",
    "\n",
    "    print(country)\n",
    "    print()\n",
    "\n",
    "    stat, p = stats.ttest_ind(df_tv_t['pplfair'], df_tv_a['pplfair'], equal_var = False)\n",
    "    print('  Statistics=%.3f, p=%.3f' % (stat, p))\n",
    "    # interpret\n",
    "    \n",
    "    if p > alpha:\n",
    "        print('  Same distribution (fail to reject H0)\\n')\n",
    "    else:\n",
    "        print('  Different distribution (reject H0)\\n')"
   ]
  },
  {
   "cell_type": "markdown",
   "metadata": {},
   "source": [
    "- By the results of the t-test for independent samples we see that only Czech Republic's partner distinction is not statistically significant in the fairness feature.\n",
    "\n",
    "- Lets look at the remaining country's fairness records to compare."
   ]
  },
  {
   "cell_type": "code",
   "execution_count": 22,
   "metadata": {},
   "outputs": [
    {
     "name": "stdout",
     "output_type": "stream",
     "text": [
      "Switzerland\n",
      "People who lived with a partner felt that people were fairer in 2012.\n",
      "\n",
      "Czech Republic\n",
      "People who lived with a partner felt that people were fairer in 2012.\n",
      "\n",
      "Denmark\n",
      "People who lived with a partner felt that people were fairer in 2012.\n",
      "\n",
      "Sweden\n",
      "People who lived with a partner felt that people were fairer in 2012.\n",
      "\n"
     ]
    }
   ],
   "source": [
    "country_list = ['Switzerland','Czech Republic','Denmark', 'Sweden']\n",
    "\n",
    "for country in country_list:\n",
    "    df = df_2012_dropna[df_2012_dropna['cntry']==country]\n",
    "    \n",
    "    df_tv_t = df[df['partner']=='Together']\n",
    "    df_tv_a = df[df['partner']=='Alone']\n",
    "\n",
    "    print(country)\n",
    "    \n",
    "    \n",
    "    t_avg = df_tv_t['pplfair'].mean()\n",
    "    a_avg = df_tv_a['pplfair'].mean()\n",
    "    \n",
    "    if t_avg > a_avg:\n",
    "        print('People who lived with a partner felt that people were fairer in 2012.\\n')\n",
    "    else:\n",
    "        print('People who lived alone felt that people were fairer in 2012.\\n')"
   ]
  },
  {
   "cell_type": "markdown",
   "metadata": {},
   "source": [
    "- The results of the normally distributed fairness feature is very conclusive, in all countries, people who lived with a partner felt that people were treated them with more fairness than those who lived by themselves.\n",
    "\n",
    "- Lets test the non-normal fairness data now."
   ]
  },
  {
   "cell_type": "code",
   "execution_count": 23,
   "metadata": {},
   "outputs": [
    {
     "name": "stdout",
     "output_type": "stream",
     "text": [
      "Norway\n",
      "\n",
      "  Statistics=54483.000, p=0.177\n",
      "  Same distribution (fail to reject H0)\n",
      "\n",
      "Spain\n",
      "\n",
      "  Statistics=155984.000, p=0.461\n",
      "  Same distribution (fail to reject H0)\n",
      "\n"
     ]
    }
   ],
   "source": [
    "country_list = ['Norway', 'Spain']\n",
    "\n",
    "alpha = 0.05\n",
    "\n",
    "for country in country_list:\n",
    "    df = df_2012_dropna[df_2012_dropna['cntry']==country]\n",
    "    \n",
    "    df_t = df[df['partner']=='Together']\n",
    "    df_a = df[df['partner']=='Alone']\n",
    "\n",
    "    print(country)\n",
    "    print()\n",
    "\n",
    "    stat, p = stats.mannwhitneyu(df_t['pplfair'], df_a['pplfair'])\n",
    "    print('  Statistics=%.3f, p=%.3f' % (stat, p))\n",
    "    # interpret\n",
    "    \n",
    "    if p > alpha:\n",
    "        print('  Same distribution (fail to reject H0)\\n')\n",
    "    else:\n",
    "        print('  Different distribution (reject H0)\\n')"
   ]
  },
  {
   "cell_type": "markdown",
   "metadata": {},
   "source": [
    "- There does not seem to be a statistical difference between the non-normally distributed fairness data of Norway or Spain, thus we conclude there is no difference between the fiarness records of people living alone or together in these countries."
   ]
  },
  {
   "cell_type": "markdown",
   "metadata": {},
   "source": [
    "## 5) Pick three or four of the countries in the sample and compare how often people met socially in 2014. Are there differences, and if so, which countries stand out?"
   ]
  },
  {
   "cell_type": "code",
   "execution_count": 27,
   "metadata": {},
   "outputs": [
    {
     "name": "stdout",
     "output_type": "stream",
     "text": [
      "Switzerland\n",
      "\n",
      "  Statistics=0.898, p=0.000\n",
      "  Sample does not look Gaussian (reject H0)\n",
      "\n",
      "Czech Republic\n",
      "\n",
      "  Statistics=0.944, p=0.000\n",
      "  Sample does not look Gaussian (reject H0)\n",
      "\n",
      "Denmark\n",
      "\n",
      "  Statistics=0.862, p=0.032\n",
      "  Sample does not look Gaussian (reject H0)\n",
      "\n",
      "Sweden\n",
      "\n",
      "  Statistics=0.878, p=0.000\n",
      "  Sample does not look Gaussian (reject H0)\n",
      "\n"
     ]
    }
   ],
   "source": [
    "df_2014_dropna = df_ess[df_ess['year']==2014].dropna()\n",
    "\n",
    "country_list = ['Switzerland','Czech Republic','Denmark', 'Sweden']\n",
    "\n",
    "alpha = 0.05\n",
    "\n",
    "for country in country_list:\n",
    "    df = df_2014_dropna[df_2014_dropna['cntry']==country]\n",
    "    print(country)\n",
    "    print()\n",
    "    \n",
    "    stat, p = stats.shapiro(df['sclmeet'])\n",
    "    print('  Statistics=%.3f, p=%.3f' % (stat, p))\n",
    "    # interpret\n",
    "        \n",
    "    if p > alpha:\n",
    "        print('  Sample looks Gaussian (fail to reject H0)\\n')\n",
    "    else:\n",
    "        print('  Sample does not look Gaussian (reject H0)\\n')"
   ]
  },
  {
   "cell_type": "code",
   "execution_count": 42,
   "metadata": {},
   "outputs": [
    {
     "name": "stdout",
     "output_type": "stream",
     "text": [
      "Switzerland:\n",
      "avg = 5.174966352624495, std =  1.3016961639257436\n",
      "\n",
      "Czech Republic: \n",
      "avg = 4.4950495049504955, std = 1.4712029982324069\n",
      "\n",
      "Denmark:\n",
      "avg = 4.428571428571429, std = 0.7559289460184544\n",
      "\n",
      "Sweden:\n",
      "avg = 5.434832756632065, std = 1.3707047338425682\n"
     ]
    },
    {
     "data": {
      "text/plain": [
       "KruskalResult(statistic=162.23842058345167, pvalue=6.026207477104715e-35)"
      ]
     },
     "execution_count": 42,
     "metadata": {},
     "output_type": "execute_result"
    }
   ],
   "source": [
    "# Kruskal-Wallace Test\n",
    "\n",
    "Switzerland = df_2014_dropna[df_2014_dropna['cntry']=='Switzerland']['sclmeet']\n",
    "Czech_Republic = df_2014_dropna[df_2014_dropna['cntry']=='Czech Republic']['sclmeet']\n",
    "Denmark = df_2014_dropna[df_2014_dropna['cntry']=='Denmark']['sclmeet']\n",
    "Sweden = df_2014_dropna[df_2014_dropna['cntry']=='Sweden']['sclmeet']\n",
    "\n",
    "print('Switzerland:\\navg = {}, std =  {}\\n'.format(Switzerland.mean(), Switzerland.std()))\n",
    "print('Czech Republic: \\navg = {}, std = {}\\n'.format(Czech_Republic.mean(), Czech_Republic.std()))\n",
    "print('Denmark:\\navg = {}, std = {}\\n'.format(Denmark.mean(), Denmark.std()))\n",
    "print('Sweden:\\navg = {}, std = {}'.format(Sweden.mean(), Sweden.std()))\n",
    "\n",
    "# Print the test statistic followed by the probability of getting this result\n",
    "# if the groups were not different.\n",
    "stats.kruskal(Switzerland,Czech_Republic,Denmark,Sweden)\n",
    "    "
   ]
  },
  {
   "cell_type": "markdown",
   "metadata": {},
   "source": [
    "- From the Kruskal-Wallace Test it seems the records of social meetings are statistically disticnt between the four countries, Sweden has the highest social meeting likelihood, while Denmark has the lowest."
   ]
  },
  {
   "cell_type": "markdown",
   "metadata": {},
   "source": [
    "## 6) Pick three or four of the countries in the sample and compare how often people took part in social activities, relative to others their age, in 2014. Are there differences, and if so, which countries stand out?"
   ]
  },
  {
   "cell_type": "code",
   "execution_count": 149,
   "metadata": {},
   "outputs": [],
   "source": [
    "df_2014_dropna = df_ess[df_ess['year']==2014].dropna()\n",
    "\n",
    "df_2014_dropna['age_bins'] = pd.cut(x=df_2014_dropna['agea'], \n",
    "                                    bins=[14, 30, 45, 60, 75, 120],\n",
    "                                   labels = ['14-30','30-45', '45-60', '60-75','75-120'])"
   ]
  },
  {
   "cell_type": "code",
   "execution_count": 150,
   "metadata": {},
   "outputs": [
    {
     "name": "stdout",
     "output_type": "stream",
     "text": [
      "Switzerland\n",
      "\n",
      "14-30\n",
      "  Statistics=0.817, p=0.000\n",
      "  Sample does not look Gaussian (reject H0)\n",
      "\n",
      "30-45\n",
      "  Statistics=0.891, p=0.000\n",
      "  Sample does not look Gaussian (reject H0)\n",
      "\n",
      "45-60\n",
      "  Statistics=0.914, p=0.000\n",
      "  Sample does not look Gaussian (reject H0)\n",
      "\n",
      "60-75\n",
      "  Statistics=0.900, p=0.000\n",
      "  Sample does not look Gaussian (reject H0)\n",
      "\n",
      "75-120\n",
      "  Statistics=0.933, p=0.008\n",
      "  Sample does not look Gaussian (reject H0)\n",
      "\n",
      "Czech Republic\n",
      "\n",
      "14-30\n",
      "  Statistics=0.889, p=0.000\n",
      "  Sample does not look Gaussian (reject H0)\n",
      "\n",
      "30-45\n",
      "  Statistics=0.938, p=0.000\n",
      "  Sample does not look Gaussian (reject H0)\n",
      "\n",
      "45-60\n",
      "  Statistics=0.942, p=0.000\n",
      "  Sample does not look Gaussian (reject H0)\n",
      "\n",
      "60-75\n",
      "  Statistics=0.940, p=0.000\n",
      "  Sample does not look Gaussian (reject H0)\n",
      "\n",
      "75-120\n",
      "  Statistics=0.940, p=0.586\n",
      "  Sample looks Gaussian (fail to reject H0)\n",
      "\n",
      "Sweden\n",
      "\n",
      "14-30\n",
      "  Statistics=0.816, p=0.000\n",
      "  Sample does not look Gaussian (reject H0)\n",
      "\n",
      "30-45\n",
      "  Statistics=0.826, p=0.000\n",
      "  Sample does not look Gaussian (reject H0)\n",
      "\n",
      "45-60\n",
      "  Statistics=0.873, p=0.000\n",
      "  Sample does not look Gaussian (reject H0)\n",
      "\n",
      "60-75\n",
      "  Statistics=0.906, p=0.000\n",
      "  Sample does not look Gaussian (reject H0)\n",
      "\n",
      "75-120\n",
      "  Statistics=0.914, p=0.000\n",
      "  Sample does not look Gaussian (reject H0)\n",
      "\n"
     ]
    }
   ],
   "source": [
    "country_list = ['Switzerland','Czech Republic', 'Sweden']\n",
    "\n",
    "bin_list = ['14-30','30-45', '45-60', '60-75','75-120']\n",
    "\n",
    "alpha = 0.05\n",
    "\n",
    "for country in country_list:\n",
    "    \n",
    "    df = df_2014_dropna[df_2014_dropna['cntry']==country]\n",
    "    print(country)\n",
    "    print()\n",
    "    \n",
    "    for binn in bin_list:\n",
    "        \n",
    "        df_bin = df[df['age_bins']==binn]\n",
    "        print(binn)                                                               \n",
    "        stat, p = stats.shapiro(df_bin['sclmeet']) \n",
    "        print('  Statistics=%.3f, p=%.3f' % (stat, p))\n",
    "        # interpret\n",
    "        \n",
    "        if p > alpha:\n",
    "            print('  Sample looks Gaussian (fail to reject H0)\\n')\n",
    "        else:\n",
    "            print('  Sample does not look Gaussian (reject H0)\\n')"
   ]
  },
  {
   "cell_type": "code",
   "execution_count": 168,
   "metadata": {},
   "outputs": [
    {
     "name": "stdout",
     "output_type": "stream",
     "text": [
      "Switzerland\n",
      "14-30: avg = 5.630681818181818, std = 1.1735034680862217\n",
      "30-45: avg = 5.248730964467005, std = 1.1667418937530065\n",
      "45-60: avg = 5.081081081081081, std = 1.2975390246786576\n",
      "60-75: avg = 4.882352941176471, std = 1.419748665965144\n",
      "75-120: avg = 4.408163265306122, std = 1.352749782032552\n",
      "Czech Republic\n",
      "14-30: avg = 5.165413533834586, std = 1.4728885818906778\n",
      "30-45: avg = 4.241758241758242, std = 1.4129680320028781\n",
      "45-60: avg = 4.382022471910112, std = 1.402222755078305\n",
      "60-75: avg = 4.288461538461538, std = 1.4526378879327786\n",
      "75-120: avg = 4.333333333333333, std = 1.5\n",
      "Sweden\n",
      "14-30: avg = 5.848484848484849, std = 1.212151976228578\n",
      "30-45: avg = 5.685185185185185, std = 1.3442873020997448\n",
      "45-60: avg = 5.37914691943128, std = 1.5050205606023146\n",
      "60-75: avg = 5.11453744493392, std = 1.2175378216067867\n",
      "75-120: avg = 4.884057971014493, std = 1.4706564349062348\n",
      "\n",
      "14-30:\n",
      "KruskalResult(statistic=22.67630776852584, pvalue=1.1909741440686288e-05)\n",
      "\n",
      "30-45:\n",
      "KruskalResult(statistic=95.98099238351796, pvalue=1.4387731353752466e-21)\n",
      "\n",
      "45-60:\n",
      "KruskalResult(statistic=47.9920205202241, pvalue=3.790226435493543e-11)\n",
      "\n",
      "60-75:\n",
      "KruskalResult(statistic=22.80275754091284, pvalue=1.118005947530867e-05)\n",
      "\n",
      "75-120:\n",
      "KruskalResult(statistic=3.790027816196154, pvalue=0.15031624441879207)\n"
     ]
    }
   ],
   "source": [
    "# Kruskal-Wallace Test\n",
    "\n",
    "Switzerland = df_2014_dropna[df_2014_dropna['cntry']=='Switzerland']\n",
    "Czech_Republic = df_2014_dropna[df_2014_dropna['cntry']=='Czech Republic']\n",
    "Sweden = df_2014_dropna[df_2014_dropna['cntry']=='Sweden']\n",
    "\n",
    "#country_list = ['Switzerland','Czech Republic', 'Sweden']\n",
    "bin_list = ['14-30','30-45', '45-60', '60-75','75-120']\n",
    "\n",
    "print('Switzerland')\n",
    "for binn in bin_list:\n",
    "    print('{}: avg = {}, std = {}'.format(binn, Switzerland[Switzerland['age_bins']==binn]['sclmeet'].mean(),\n",
    "                                         Switzerland[Switzerland['age_bins']==binn]['sclmeet'].std()))\n",
    "print('Czech Republic')\n",
    "for binn in bin_list:\n",
    "    print('{}: avg = {}, std = {}'.format(binn, Czech_Republic[Czech_Republic['age_bins']==binn]['sclmeet'].mean(),\n",
    "                                         Czech_Republic[Czech_Republic['age_bins']==binn]['sclmeet'].std()))\n",
    "print('Sweden')\n",
    "for binn in bin_list:\n",
    "    print('{}: avg = {}, std = {}'.format(binn, Sweden[Sweden['age_bins']==binn]['sclmeet'].mean(),\n",
    "                                         Sweden[Sweden['age_bins']==binn]['sclmeet'].std()))\n",
    "\n",
    "\n",
    "\n",
    "# Print the test statistic followed by the probability of getting this result\n",
    "# if the groups were not different.\n",
    "print()\n",
    "print('14-30:')\n",
    "print('{}\\n'.format(stats.kruskal(Switzerland[Switzerland['age_bins']=='14-30']['sclmeet'],\n",
    "              Czech_Republic[Czech_Republic['age_bins']=='14-30']['sclmeet'],\n",
    "              Sweden[Sweden['age_bins']=='14-30']['sclmeet'])))\n",
    "print('30-45:')\n",
    "print('{}\\n'.format(stats.kruskal(Switzerland[Switzerland['age_bins']=='30-45']['sclmeet'],\n",
    "              Czech_Republic[Czech_Republic['age_bins']=='30-45']['sclmeet'],\n",
    "              Sweden[Sweden['age_bins']=='30-45']['sclmeet'])))\n",
    "print('45-60:')\n",
    "print('{}\\n'.format(stats.kruskal(Switzerland[Switzerland['age_bins']=='45-60']['sclmeet'],\n",
    "              Czech_Republic[Czech_Republic['age_bins']=='45-60']['sclmeet'],\n",
    "              Sweden[Sweden['age_bins']=='45-60']['sclmeet'])))\n",
    "print('60-75:')\n",
    "print('{}\\n'.format(stats.kruskal(Switzerland[Switzerland['age_bins']=='60-75']['sclmeet'],\n",
    "              Czech_Republic[Czech_Republic['age_bins']=='60-75']['sclmeet'],\n",
    "              Sweden[Sweden['age_bins']=='60-75']['sclmeet'])))\n",
    "print('75-120:')\n",
    "print('{}'.format(stats.kruskal(Switzerland[Switzerland['age_bins']=='75-120']['sclmeet'],\n",
    "              Czech_Republic[Czech_Republic['age_bins']=='75-120']['sclmeet'],\n",
    "              Sweden[Sweden['age_bins']=='75-120']['sclmeet'])))"
   ]
  },
  {
   "cell_type": "markdown",
   "metadata": {},
   "source": [
    "- From the Kruskal-Wallace Test, it seems between the threee countries that all age groups except the 75-120 age are statistically distinct in the likelihood to meet socially.\n",
    "- Sweden has the highest average across all age ranges. "
   ]
  },
  {
   "cell_type": "code",
   "execution_count": null,
   "metadata": {},
   "outputs": [],
   "source": []
  }
 ],
 "metadata": {
  "kernelspec": {
   "display_name": "Python 3",
   "language": "python",
   "name": "python3"
  },
  "language_info": {
   "codemirror_mode": {
    "name": "ipython",
    "version": 3
   },
   "file_extension": ".py",
   "mimetype": "text/x-python",
   "name": "python",
   "nbconvert_exporter": "python",
   "pygments_lexer": "ipython3",
   "version": "3.7.1"
  }
 },
 "nbformat": 4,
 "nbformat_minor": 2
}
