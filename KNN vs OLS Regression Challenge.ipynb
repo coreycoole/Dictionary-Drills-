{
 "cells": [
  {
   "cell_type": "markdown",
   "metadata": {},
   "source": [
    "# KNN versus LRM modeling"
   ]
  },
  {
   "cell_type": "code",
   "execution_count": 48,
   "metadata": {},
   "outputs": [
    {
     "data": {
      "text/html": [
       "<div>\n",
       "<style scoped>\n",
       "    .dataframe tbody tr th:only-of-type {\n",
       "        vertical-align: middle;\n",
       "    }\n",
       "\n",
       "    .dataframe tbody tr th {\n",
       "        vertical-align: top;\n",
       "    }\n",
       "\n",
       "    .dataframe thead th {\n",
       "        text-align: right;\n",
       "    }\n",
       "</style>\n",
       "<table border=\"1\" class=\"dataframe\">\n",
       "  <thead>\n",
       "    <tr style=\"text-align: right;\">\n",
       "      <th></th>\n",
       "      <th>Age</th>\n",
       "      <th>Sex</th>\n",
       "      <th>ChstPain</th>\n",
       "      <th>RstngBldPrs</th>\n",
       "      <th>Chol</th>\n",
       "      <th>FstngBldSgr</th>\n",
       "      <th>RstElctrGrph</th>\n",
       "      <th>MxHrtRt</th>\n",
       "      <th>ExczAgna</th>\n",
       "      <th>STdepr</th>\n",
       "      <th>Slope</th>\n",
       "      <th>ClrdVsl</th>\n",
       "      <th>THAL</th>\n",
       "      <th>PredHrtDis</th>\n",
       "    </tr>\n",
       "  </thead>\n",
       "  <tbody>\n",
       "    <tr>\n",
       "      <th>0</th>\n",
       "      <td>63</td>\n",
       "      <td>1</td>\n",
       "      <td>1</td>\n",
       "      <td>145</td>\n",
       "      <td>233</td>\n",
       "      <td>1</td>\n",
       "      <td>2</td>\n",
       "      <td>150</td>\n",
       "      <td>0</td>\n",
       "      <td>2.3</td>\n",
       "      <td>3</td>\n",
       "      <td>0</td>\n",
       "      <td>6</td>\n",
       "      <td>0</td>\n",
       "    </tr>\n",
       "    <tr>\n",
       "      <th>1</th>\n",
       "      <td>67</td>\n",
       "      <td>1</td>\n",
       "      <td>4</td>\n",
       "      <td>160</td>\n",
       "      <td>286</td>\n",
       "      <td>0</td>\n",
       "      <td>2</td>\n",
       "      <td>108</td>\n",
       "      <td>1</td>\n",
       "      <td>1.5</td>\n",
       "      <td>2</td>\n",
       "      <td>3</td>\n",
       "      <td>3</td>\n",
       "      <td>2</td>\n",
       "    </tr>\n",
       "    <tr>\n",
       "      <th>2</th>\n",
       "      <td>67</td>\n",
       "      <td>1</td>\n",
       "      <td>4</td>\n",
       "      <td>120</td>\n",
       "      <td>229</td>\n",
       "      <td>0</td>\n",
       "      <td>2</td>\n",
       "      <td>129</td>\n",
       "      <td>1</td>\n",
       "      <td>2.6</td>\n",
       "      <td>2</td>\n",
       "      <td>2</td>\n",
       "      <td>7</td>\n",
       "      <td>1</td>\n",
       "    </tr>\n",
       "    <tr>\n",
       "      <th>3</th>\n",
       "      <td>37</td>\n",
       "      <td>1</td>\n",
       "      <td>3</td>\n",
       "      <td>130</td>\n",
       "      <td>250</td>\n",
       "      <td>0</td>\n",
       "      <td>0</td>\n",
       "      <td>187</td>\n",
       "      <td>0</td>\n",
       "      <td>3.5</td>\n",
       "      <td>3</td>\n",
       "      <td>0</td>\n",
       "      <td>3</td>\n",
       "      <td>0</td>\n",
       "    </tr>\n",
       "    <tr>\n",
       "      <th>4</th>\n",
       "      <td>41</td>\n",
       "      <td>0</td>\n",
       "      <td>2</td>\n",
       "      <td>130</td>\n",
       "      <td>204</td>\n",
       "      <td>0</td>\n",
       "      <td>2</td>\n",
       "      <td>172</td>\n",
       "      <td>0</td>\n",
       "      <td>1.4</td>\n",
       "      <td>1</td>\n",
       "      <td>0</td>\n",
       "      <td>3</td>\n",
       "      <td>0</td>\n",
       "    </tr>\n",
       "  </tbody>\n",
       "</table>\n",
       "</div>"
      ],
      "text/plain": [
       "   Age  Sex  ChstPain RstngBldPrs Chol FstngBldSgr RstElctrGrph MxHrtRt  \\\n",
       "0   63    1         1         145  233           1            2     150   \n",
       "1   67    1         4         160  286           0            2     108   \n",
       "2   67    1         4         120  229           0            2     129   \n",
       "3   37    1         3         130  250           0            0     187   \n",
       "4   41    0         2         130  204           0            2     172   \n",
       "\n",
       "  ExczAgna STdepr Slope ClrdVsl THAL  PredHrtDis  \n",
       "0        0    2.3     3       0    6           0  \n",
       "1        1    1.5     2       3    3           2  \n",
       "2        1    2.6     2       2    7           1  \n",
       "3        0    3.5     3       0    3           0  \n",
       "4        0    1.4     1       0    3           0  "
      ]
     },
     "execution_count": 48,
     "metadata": {},
     "output_type": "execute_result"
    }
   ],
   "source": [
    "import numpy as np # Import necessary libraries\n",
    "import pandas as pd  \n",
    "import datetime\n",
    "import matplotlib.pyplot as plt\n",
    "import math\n",
    "import statsmodels.api as sm\n",
    "import seaborn as sns\n",
    "from sklearn.model_selection import train_test_split, cross_val_score, cross_val_predict\n",
    "from sklearn.linear_model import LinearRegression\n",
    "from sklearn.metrics import mean_absolute_error,classification_report\n",
    "from statsmodels.tools.eval_measures import mse, rmse\n",
    "from sklearn.preprocessing import StandardScaler\n",
    "from sklearn.neighbors import KNeighborsClassifier\n",
    "from scipy import stats\n",
    "%matplotlib inline\n",
    "\n",
    "import warnings\n",
    "warnings.filterwarnings('ignore')\n",
    "\n",
    "    \n",
    "df_clv = pd.read_csv('cleveland.names.csv', sep=',')\n",
    "df_clv.replace([\"?\"], np.nan, inplace = True)\n",
    "\n",
    "df_lng = pd.read_csv('va.names.csv', sep=',')\n",
    "df_lng.replace('?', np.nan, inplace=True)\n",
    "\n",
    "df_swtz = pd.read_csv('switz.names.csv', sep=',')\n",
    "df_swtz.replace('?', np.nan, inplace=True)\n",
    "\n",
    "df = pd.concat([df_clv, df_lng, df_swt], ignore_index=True)\n",
    "df.replace([\"?\"], np.nan, inplace = True)\n",
    "\n",
    "df.head()\n"
   ]
  },
  {
   "cell_type": "markdown",
   "metadata": {},
   "source": [
    "- data comes from three seperate datasets collected from hospitals located in California, Cleveland, and Switzerland. Each dataset contains the same attributes and relates a target variable 'Heart Disease Prediction' value that ranges from 0-no risk of heart disease to 4-severe risk of heart disease.\n",
    "- each dataset is combined to get the maximum amount of datapoints into each model."
   ]
  },
  {
   "cell_type": "markdown",
   "metadata": {},
   "source": [
    "plt.hist(df['PredHrtDis']) #visualize the distribution of the target variable\n",
    "plt.title(\"The distribution of Predicted Heart Disease\")\n",
    "plt.xlabel(\"Severity\")\n",
    "plt.ylabel(\"number of occurrence\")\n",
    "plt.show()"
   ]
  },
  {
   "cell_type": "markdown",
   "metadata": {},
   "source": [
    "- important to note, our target varible, although numerical, is actually a classification system."
   ]
  },
  {
   "cell_type": "code",
   "execution_count": 5,
   "metadata": {
    "scrolled": true
   },
   "outputs": [
    {
     "data": {
      "text/html": [
       "<div>\n",
       "<style scoped>\n",
       "    .dataframe tbody tr th:only-of-type {\n",
       "        vertical-align: middle;\n",
       "    }\n",
       "\n",
       "    .dataframe tbody tr th {\n",
       "        vertical-align: top;\n",
       "    }\n",
       "\n",
       "    .dataframe thead th {\n",
       "        text-align: right;\n",
       "    }\n",
       "</style>\n",
       "<table border=\"1\" class=\"dataframe\">\n",
       "  <thead>\n",
       "    <tr style=\"text-align: right;\">\n",
       "      <th></th>\n",
       "      <th>Age</th>\n",
       "      <th>Sex</th>\n",
       "      <th>ChstPain</th>\n",
       "      <th>PredHrtDis</th>\n",
       "    </tr>\n",
       "  </thead>\n",
       "  <tbody>\n",
       "    <tr>\n",
       "      <th>count</th>\n",
       "      <td>626.000000</td>\n",
       "      <td>626.000000</td>\n",
       "      <td>626.000000</td>\n",
       "      <td>626.000000</td>\n",
       "    </tr>\n",
       "    <tr>\n",
       "      <th>mean</th>\n",
       "      <td>56.180511</td>\n",
       "      <td>0.819489</td>\n",
       "      <td>3.375399</td>\n",
       "      <td>1.293930</td>\n",
       "    </tr>\n",
       "    <tr>\n",
       "      <th>std</th>\n",
       "      <td>8.925344</td>\n",
       "      <td>0.384920</td>\n",
       "      <td>0.887947</td>\n",
       "      <td>1.238009</td>\n",
       "    </tr>\n",
       "    <tr>\n",
       "      <th>min</th>\n",
       "      <td>29.000000</td>\n",
       "      <td>0.000000</td>\n",
       "      <td>1.000000</td>\n",
       "      <td>0.000000</td>\n",
       "    </tr>\n",
       "    <tr>\n",
       "      <th>25%</th>\n",
       "      <td>51.000000</td>\n",
       "      <td>1.000000</td>\n",
       "      <td>3.000000</td>\n",
       "      <td>0.000000</td>\n",
       "    </tr>\n",
       "    <tr>\n",
       "      <th>50%</th>\n",
       "      <td>57.000000</td>\n",
       "      <td>1.000000</td>\n",
       "      <td>4.000000</td>\n",
       "      <td>1.000000</td>\n",
       "    </tr>\n",
       "    <tr>\n",
       "      <th>75%</th>\n",
       "      <td>62.000000</td>\n",
       "      <td>1.000000</td>\n",
       "      <td>4.000000</td>\n",
       "      <td>2.000000</td>\n",
       "    </tr>\n",
       "    <tr>\n",
       "      <th>max</th>\n",
       "      <td>77.000000</td>\n",
       "      <td>1.000000</td>\n",
       "      <td>4.000000</td>\n",
       "      <td>4.000000</td>\n",
       "    </tr>\n",
       "  </tbody>\n",
       "</table>\n",
       "</div>"
      ],
      "text/plain": [
       "              Age         Sex    ChstPain  PredHrtDis\n",
       "count  626.000000  626.000000  626.000000  626.000000\n",
       "mean    56.180511    0.819489    3.375399    1.293930\n",
       "std      8.925344    0.384920    0.887947    1.238009\n",
       "min     29.000000    0.000000    1.000000    0.000000\n",
       "25%     51.000000    1.000000    3.000000    0.000000\n",
       "50%     57.000000    1.000000    4.000000    1.000000\n",
       "75%     62.000000    1.000000    4.000000    2.000000\n",
       "max     77.000000    1.000000    4.000000    4.000000"
      ]
     },
     "execution_count": 5,
     "metadata": {},
     "output_type": "execute_result"
    }
   ],
   "source": [
    "df.describe()"
   ]
  },
  {
   "cell_type": "markdown",
   "metadata": {},
   "source": [
    "- we see no out of place min/max or average values, but we'll take a look at any missing data values for thorough investigation."
   ]
  },
  {
   "cell_type": "code",
   "execution_count": 80,
   "metadata": {
    "scrolled": true
   },
   "outputs": [
    {
     "data": {
      "text/html": [
       "<div>\n",
       "<style scoped>\n",
       "    .dataframe tbody tr th:only-of-type {\n",
       "        vertical-align: middle;\n",
       "    }\n",
       "\n",
       "    .dataframe tbody tr th {\n",
       "        vertical-align: top;\n",
       "    }\n",
       "\n",
       "    .dataframe thead th {\n",
       "        text-align: right;\n",
       "    }\n",
       "</style>\n",
       "<table border=\"1\" class=\"dataframe\">\n",
       "  <thead>\n",
       "    <tr style=\"text-align: right;\">\n",
       "      <th></th>\n",
       "      <th>Total</th>\n",
       "      <th>Percent</th>\n",
       "    </tr>\n",
       "  </thead>\n",
       "  <tbody>\n",
       "    <tr>\n",
       "      <th>ClrdVsl</th>\n",
       "      <td>320</td>\n",
       "      <td>0.511182</td>\n",
       "    </tr>\n",
       "    <tr>\n",
       "      <th>THAL</th>\n",
       "      <td>220</td>\n",
       "      <td>0.351438</td>\n",
       "    </tr>\n",
       "    <tr>\n",
       "      <th>Slope</th>\n",
       "      <td>119</td>\n",
       "      <td>0.190096</td>\n",
       "    </tr>\n",
       "    <tr>\n",
       "      <th>FstngBldSgr</th>\n",
       "      <td>82</td>\n",
       "      <td>0.130990</td>\n",
       "    </tr>\n",
       "    <tr>\n",
       "      <th>STdepr</th>\n",
       "      <td>62</td>\n",
       "      <td>0.099042</td>\n",
       "    </tr>\n",
       "    <tr>\n",
       "      <th>RstngBldPrs</th>\n",
       "      <td>58</td>\n",
       "      <td>0.092652</td>\n",
       "    </tr>\n",
       "    <tr>\n",
       "      <th>ExczAgna</th>\n",
       "      <td>54</td>\n",
       "      <td>0.086262</td>\n",
       "    </tr>\n",
       "    <tr>\n",
       "      <th>MxHrtRt</th>\n",
       "      <td>54</td>\n",
       "      <td>0.086262</td>\n",
       "    </tr>\n",
       "    <tr>\n",
       "      <th>Chol</th>\n",
       "      <td>7</td>\n",
       "      <td>0.011182</td>\n",
       "    </tr>\n",
       "    <tr>\n",
       "      <th>RstElctrGrph</th>\n",
       "      <td>1</td>\n",
       "      <td>0.001597</td>\n",
       "    </tr>\n",
       "    <tr>\n",
       "      <th>PredHrtDis</th>\n",
       "      <td>0</td>\n",
       "      <td>0.000000</td>\n",
       "    </tr>\n",
       "  </tbody>\n",
       "</table>\n",
       "</div>"
      ],
      "text/plain": [
       "              Total   Percent\n",
       "ClrdVsl         320  0.511182\n",
       "THAL            220  0.351438\n",
       "Slope           119  0.190096\n",
       "FstngBldSgr      82  0.130990\n",
       "STdepr           62  0.099042\n",
       "RstngBldPrs      58  0.092652\n",
       "ExczAgna         54  0.086262\n",
       "MxHrtRt          54  0.086262\n",
       "Chol              7  0.011182\n",
       "RstElctrGrph      1  0.001597\n",
       "PredHrtDis        0  0.000000"
      ]
     },
     "execution_count": 80,
     "metadata": {},
     "output_type": "execute_result"
    }
   ],
   "source": [
    "total_missing = df.isnull().sum().sort_values(ascending=False) \n",
    "                                                    #take a count of missing values and their corresponding columns\n",
    "\n",
    "percent_missing = (df.isnull().sum()/df.isnull().count()).sort_values(ascending=False)\n",
    "\n",
    "missing_data = pd.concat([total_missing, percent_missing], axis=1, keys=['Total', 'Percent'])\n",
    "\n",
    "missing_data.head(11)"
   ]
  },
  {
   "cell_type": "markdown",
   "metadata": {},
   "source": [
    "- seems like a few missing values especially in the ClrdVsl and THAL data, lets clean them up with a little interpolation."
   ]
  },
  {
   "cell_type": "code",
   "execution_count": 7,
   "metadata": {
    "scrolled": true
   },
   "outputs": [],
   "source": [
    "fill_list = ['ClrdVsl','THAL','Chol','ClrdVsl','FstngBldSgr','Slope','STdepr','RstngBldPrs','ExczAgna','MxHrtRt','RstElctrGrph']\n",
    "                                                \n",
    "for col in fill_list: #change data type to numeric\n",
    "    df[col] = pd.to_numeric(df[col])"
   ]
  },
  {
   "cell_type": "code",
   "execution_count": 8,
   "metadata": {},
   "outputs": [
    {
     "name": "stdout",
     "output_type": "stream",
     "text": [
      "<class 'pandas.core.frame.DataFrame'>\n",
      "RangeIndex: 626 entries, 0 to 625\n",
      "Data columns (total 14 columns):\n",
      "Age             626 non-null int64\n",
      "Sex             626 non-null int64\n",
      "ChstPain        626 non-null int64\n",
      "RstngBldPrs     568 non-null float64\n",
      "Chol            619 non-null float64\n",
      "FstngBldSgr     544 non-null float64\n",
      "RstElctrGrph    625 non-null float64\n",
      "MxHrtRt         572 non-null float64\n",
      "ExczAgna        572 non-null float64\n",
      "STdepr          564 non-null float64\n",
      "Slope           507 non-null float64\n",
      "ClrdVsl         306 non-null float64\n",
      "THAL            406 non-null float64\n",
      "PredHrtDis      626 non-null int64\n",
      "dtypes: float64(10), int64(4)\n",
      "memory usage: 68.5 KB\n"
     ]
    }
   ],
   "source": [
    "df.info()"
   ]
  },
  {
   "cell_type": "code",
   "execution_count": 9,
   "metadata": {},
   "outputs": [],
   "source": [
    "for col in fill_list: #fill missing values by interpolation method\n",
    "    df.loc[:, col].interpolate(inplace=True) "
   ]
  },
  {
   "cell_type": "code",
   "execution_count": 10,
   "metadata": {
    "scrolled": true
   },
   "outputs": [
    {
     "data": {
      "text/plain": [
       "RstElctrGrph    0\n",
       "MxHrtRt         0\n",
       "ExczAgna        0\n",
       "RstngBldPrs     0\n",
       "STdepr          0\n",
       "Slope           0\n",
       "FstngBldSgr     0\n",
       "ClrdVsl         0\n",
       "THAL            0\n",
       "ClrdVsl         0\n",
       "dtype: int64"
      ]
     },
     "execution_count": 10,
     "metadata": {},
     "output_type": "execute_result"
    }
   ],
   "source": [
    "df[['ClrdVsl','THAL','ClrdVsl','FstngBldSgr','Slope','STdepr','RstngBldPrs','ExczAgna','MxHrtRt','RstElctrGrph']].isnull().sum().sort_values(ascending=False)"
   ]
  },
  {
   "cell_type": "markdown",
   "metadata": {},
   "source": [
    "- Now that the missing values have been taken care of lets visualize the outliers data points in the column data"
   ]
  },
  {
   "cell_type": "code",
   "execution_count": 11,
   "metadata": {
    "scrolled": false
   },
   "outputs": [
    {
     "data": {
      "image/png": "[encoded data removed]",
      "text/plain": [
       "<Figure size 720x720 with 14 Axes>"
      ]
     },
     "metadata": {
      "needs_background": "light"
     },
     "output_type": "display_data"
    }
   ],
   "source": [
    "plt.figure(figsize=(10,10)) #check for outliers in column data\n",
    "i = 1\n",
    "#print(df.columns)\n",
    "for column in df.columns: \n",
    "    plt.subplot(4,4,i)\n",
    "    plt.boxplot(df[column])\n",
    "    plt.title(df[column].name,fontsize=10)\n",
    "    i+=1\n",
    "plt.tight_layout()\n",
    "plt.show() "
   ]
  },
  {
   "cell_type": "markdown",
   "metadata": {},
   "source": [
    "- seems like a handful of outliers spread throughout, lets clean them up a little by removine data farther than three standard deviations away from the mean."
   ]
  },
  {
   "cell_type": "code",
   "execution_count": 12,
   "metadata": {},
   "outputs": [],
   "source": [
    "for col in df: #remove data plus or minus 3 standard deviations away from mean\n",
    "    df = df[((df[col] - df[col].mean()) / df[col].std()).abs() < 3] "
   ]
  },
  {
   "cell_type": "code",
   "execution_count": 13,
   "metadata": {
    "scrolled": false
   },
   "outputs": [
    {
     "data": {
      "image/png": "[encoded data removed]",
      "text/plain": [
       "<Figure size 720x720 with 14 Axes>"
      ]
     },
     "metadata": {
      "needs_background": "light"
     },
     "output_type": "display_data"
    }
   ],
   "source": [
    "plt.figure(figsize=(10,10)) #visualize cleaned column data\n",
    "i = 1\n",
    "#print(df.columns)\n",
    "for column in df.columns: \n",
    "    plt.subplot(4,4,i)\n",
    "    plt.boxplot(df[column])\n",
    "    plt.title(df[column].name,fontsize=10)\n",
    "    i+=1\n",
    "plt.tight_layout()\n",
    "plt.show()"
   ]
  },
  {
   "cell_type": "markdown",
   "metadata": {},
   "source": [
    "- while it didnt remove ever outier from the column data, we see most of the outliers shared between the column data that does not seem to be normally distributed. Lets go on to visualize the data distributions in out data set."
   ]
  },
  {
   "cell_type": "code",
   "execution_count": 14,
   "metadata": {
    "scrolled": false
   },
   "outputs": [
    {
     "data": {
      "image/png": "[encoded data removed]",
      "text/plain": [
       "<Figure size 720x720 with 14 Axes>"
      ]
     },
     "metadata": {
      "needs_background": "light"
     },
     "output_type": "display_data"
    }
   ],
   "source": [
    "plt.figure(figsize=(10,10)) #visualize the distributions of column data\n",
    "i = 1\n",
    "#print(df.columns)\n",
    "for column in df.columns: \n",
    "    plt.subplot(4,4,i)\n",
    "    plt.hist(df[column])\n",
    "    plt.title(df[column].name,fontsize=10)\n",
    "    i+=1\n",
    "plt.tight_layout()\n",
    "plt.show()"
   ]
  },
  {
   "cell_type": "markdown",
   "metadata": {},
   "source": [
    "- Not alot of column distributions resemble a normal curve, this is going to affect our regression model greatly. "
   ]
  },
  {
   "cell_type": "code",
   "execution_count": 15,
   "metadata": {
    "scrolled": false
   },
   "outputs": [
    {
     "data": {
      "text/plain": [
       "<matplotlib.axes._subplots.AxesSubplot at 0x1c24273710>"
      ]
     },
     "execution_count": 15,
     "metadata": {},
     "output_type": "execute_result"
    },
    {
     "data": {
      "image/png": "[encoded data removed]",
      "text/plain": [
       "<Figure size 432x288 with 2 Axes>"
      ]
     },
     "metadata": {
      "needs_background": "light"
     },
     "output_type": "display_data"
    }
   ],
   "source": [
    "sns.heatmap(df_clv[['PredHrtDis','THAL','MxHrtRt','ChstPain','STdepr','ExczAgna','ClrdVsl','Sex','Slope','Chol','RstngBldPrs',\n",
    "                    'FstngBldSgr','RstElctrGrph']].corr()) #visualize multicollinearity of column data\n"
   ]
  },
  {
   "cell_type": "markdown",
   "metadata": {},
   "source": [
    "- Assessing for multicollinearity between the attributes, we select varibles with the lowest correlation values such that we can insure a model that predicts heart disease with the most statistical integrity. "
   ]
  },
  {
   "cell_type": "code",
   "execution_count": 81,
   "metadata": {},
   "outputs": [
    {
     "data": {
      "text/plain": [
       "<matplotlib.axes._subplots.AxesSubplot at 0x1c2648d208>"
      ]
     },
     "execution_count": 81,
     "metadata": {},
     "output_type": "execute_result"
    },
    {
     "data": {
      "image/png": "[encoded data removed]",
      "text/plain": [
       "<Figure size 432x288 with 2 Axes>"
      ]
     },
     "metadata": {
      "needs_background": "light"
     },
     "output_type": "display_data"
    }
   ],
   "source": [
    "sns.heatmap(df_clv[['PredHrtDis','THAL','MxHrtRt','ClrdVsl','Sex','RstngBldPrs']].corr()) \n",
    "                                                                    #visualize multicollinearity of attributes"
   ]
  },
  {
   "cell_type": "code",
   "execution_count": 17,
   "metadata": {},
   "outputs": [],
   "source": [
    "# Y is the target variable\n",
    "Y = df['PredHrtDis']\n",
    "# X is the feature set\n",
    "X = df[['THAL','MxHrtRt','ClrdVsl','Sex','RstngBldPrs']]"
   ]
  },
  {
   "cell_type": "code",
   "execution_count": 18,
   "metadata": {
    "scrolled": false
   },
   "outputs": [
    {
     "data": {
      "text/html": [
       "<table class=\"simpletable\">\n",
       "<caption>OLS Regression Results</caption>\n",
       "<tr>\n",
       "  <th>Dep. Variable:</th>       <td>PredHrtDis</td>    <th>  R-squared:         </th> <td>   0.309</td>\n",
       "</tr>\n",
       "<tr>\n",
       "  <th>Model:</th>                   <td>OLS</td>       <th>  Adj. R-squared:    </th> <td>   0.303</td>\n",
       "</tr>\n",
       "<tr>\n",
       "  <th>Method:</th>             <td>Least Squares</td>  <th>  F-statistic:       </th> <td>   53.90</td>\n",
       "</tr>\n",
       "<tr>\n",
       "  <th>Date:</th>             <td>Sun, 30 Jun 2019</td> <th>  Prob (F-statistic):</th> <td>2.89e-46</td>\n",
       "</tr>\n",
       "<tr>\n",
       "  <th>Time:</th>                 <td>23:27:44</td>     <th>  Log-Likelihood:    </th> <td> -878.47</td>\n",
       "</tr>\n",
       "<tr>\n",
       "  <th>No. Observations:</th>      <td>   609</td>      <th>  AIC:               </th> <td>   1769.</td>\n",
       "</tr>\n",
       "<tr>\n",
       "  <th>Df Residuals:</th>          <td>   603</td>      <th>  BIC:               </th> <td>   1795.</td>\n",
       "</tr>\n",
       "<tr>\n",
       "  <th>Df Model:</th>              <td>     5</td>      <th>                     </th>     <td> </td>   \n",
       "</tr>\n",
       "<tr>\n",
       "  <th>Covariance Type:</th>      <td>nonrobust</td>    <th>                     </th>     <td> </td>   \n",
       "</tr>\n",
       "</table>\n",
       "<table class=\"simpletable\">\n",
       "<tr>\n",
       "       <td></td>          <th>coef</th>     <th>std err</th>      <th>t</th>      <th>P>|t|</th>  <th>[0.025</th>    <th>0.975]</th>  \n",
       "</tr>\n",
       "<tr>\n",
       "  <th>const</th>       <td>    0.4256</td> <td>    0.444</td> <td>    0.960</td> <td> 0.338</td> <td>   -0.445</td> <td>    1.297</td>\n",
       "</tr>\n",
       "<tr>\n",
       "  <th>THAL</th>        <td>    0.1643</td> <td>    0.027</td> <td>    6.150</td> <td> 0.000</td> <td>    0.112</td> <td>    0.217</td>\n",
       "</tr>\n",
       "<tr>\n",
       "  <th>MxHrtRt</th>     <td>   -0.0108</td> <td>    0.002</td> <td>   -6.322</td> <td> 0.000</td> <td>   -0.014</td> <td>   -0.007</td>\n",
       "</tr>\n",
       "<tr>\n",
       "  <th>ClrdVsl</th>     <td>    0.4085</td> <td>    0.055</td> <td>    7.435</td> <td> 0.000</td> <td>    0.301</td> <td>    0.516</td>\n",
       "</tr>\n",
       "<tr>\n",
       "  <th>Sex</th>         <td>    0.3137</td> <td>    0.122</td> <td>    2.577</td> <td> 0.010</td> <td>    0.075</td> <td>    0.553</td>\n",
       "</tr>\n",
       "<tr>\n",
       "  <th>RstngBldPrs</th> <td>    0.0067</td> <td>    0.002</td> <td>    2.853</td> <td> 0.004</td> <td>    0.002</td> <td>    0.011</td>\n",
       "</tr>\n",
       "</table>\n",
       "<table class=\"simpletable\">\n",
       "<tr>\n",
       "  <th>Omnibus:</th>       <td>14.775</td> <th>  Durbin-Watson:     </th> <td>   2.006</td>\n",
       "</tr>\n",
       "<tr>\n",
       "  <th>Prob(Omnibus):</th> <td> 0.001</td> <th>  Jarque-Bera (JB):  </th> <td>  15.320</td>\n",
       "</tr>\n",
       "<tr>\n",
       "  <th>Skew:</th>          <td> 0.374</td> <th>  Prob(JB):          </th> <td>0.000471</td>\n",
       "</tr>\n",
       "<tr>\n",
       "  <th>Kurtosis:</th>      <td> 2.788</td> <th>  Cond. No.          </th> <td>2.03e+03</td>\n",
       "</tr>\n",
       "</table><br/><br/>Warnings:<br/>[1] Standard Errors assume that the covariance matrix of the errors is correctly specified.<br/>[2] The condition number is large, 2.03e+03. This might indicate that there are<br/>strong multicollinearity or other numerical problems."
      ],
      "text/plain": [
       "<class 'statsmodels.iolib.summary.Summary'>\n",
       "\"\"\"\n",
       "                            OLS Regression Results                            \n",
       "==============================================================================\n",
       "Dep. Variable:             PredHrtDis   R-squared:                       0.309\n",
       "Model:                            OLS   Adj. R-squared:                  0.303\n",
       "Method:                 Least Squares   F-statistic:                     53.90\n",
       "Date:                Sun, 30 Jun 2019   Prob (F-statistic):           2.89e-46\n",
       "Time:                        23:27:44   Log-Likelihood:                -878.47\n",
       "No. Observations:                 609   AIC:                             1769.\n",
       "Df Residuals:                     603   BIC:                             1795.\n",
       "Df Model:                           5                                         \n",
       "Covariance Type:            nonrobust                                         \n",
       "===============================================================================\n",
       "                  coef    std err          t      P>|t|      [0.025      0.975]\n",
       "-------------------------------------------------------------------------------\n",
       "const           0.4256      0.444      0.960      0.338      -0.445       1.297\n",
       "THAL            0.1643      0.027      6.150      0.000       0.112       0.217\n",
       "MxHrtRt        -0.0108      0.002     -6.322      0.000      -0.014      -0.007\n",
       "ClrdVsl         0.4085      0.055      7.435      0.000       0.301       0.516\n",
       "Sex             0.3137      0.122      2.577      0.010       0.075       0.553\n",
       "RstngBldPrs     0.0067      0.002      2.853      0.004       0.002       0.011\n",
       "==============================================================================\n",
       "Omnibus:                       14.775   Durbin-Watson:                   2.006\n",
       "Prob(Omnibus):                  0.001   Jarque-Bera (JB):               15.320\n",
       "Skew:                           0.374   Prob(JB):                     0.000471\n",
       "Kurtosis:                       2.788   Cond. No.                     2.03e+03\n",
       "==============================================================================\n",
       "\n",
       "Warnings:\n",
       "[1] Standard Errors assume that the covariance matrix of the errors is correctly specified.\n",
       "[2] The condition number is large, 2.03e+03. This might indicate that there are\n",
       "strong multicollinearity or other numerical problems.\n",
       "\"\"\""
      ]
     },
     "execution_count": 18,
     "metadata": {},
     "output_type": "execute_result"
    }
   ],
   "source": [
    "X = sm.add_constant(X) #never forget to add constant to OLS model\n",
    "\n",
    "results = sm.OLS(Y, X).fit()\n",
    "\n",
    "results.summary()"
   ]
  },
  {
   "cell_type": "markdown",
   "metadata": {},
   "source": [
    "- Our LRM did not return a very high R score, although all of the coefficients were statistically significant."
   ]
  },
  {
   "cell_type": "code",
   "execution_count": 41,
   "metadata": {},
   "outputs": [],
   "source": [
    "X_train, X_test, y_train, y_test = train_test_split(X, Y, test_size = 0.2, random_state = 465)\n",
    "                                                                                #split data 20% for testing holdout\n",
    "scaler = StandardScaler() #standardaize the training and testing data\n",
    "scaler.fit(X_train,X_test)\n",
    "X_train = scaler.transform(X_train)  \n",
    "X_test = scaler.transform(X_test)"
   ]
  },
  {
   "cell_type": "code",
   "execution_count": 42,
   "metadata": {},
   "outputs": [],
   "source": [
    "lrm = LinearRegression() \n",
    "\n",
    "lrm.fit(X_train, y_train)\n",
    "\n",
    "# We are making predictions here\n",
    "y_pred_train_lrm = lrm.predict(X_train)\n",
    "y_pred_lrm = lrm.predict(X_test)"
   ]
  },
  {
   "cell_type": "code",
   "execution_count": 43,
   "metadata": {},
   "outputs": [
    {
     "name": "stdout",
     "output_type": "stream",
     "text": [
      "OLS Accuracy: 0.29 (+/- 0.18)\n"
     ]
    }
   ],
   "source": [
    "lr_score = cross_val_score(lrm,X_train, y_train, cv=4) #calculate prediction accuracy of the LRM\n",
    "print(\"OLS Accuracy: %0.2f (+/- %0.2f)\" % (lr_score.mean(), lr_score.std() * 2))"
   ]
  },
  {
   "cell_type": "markdown",
   "metadata": {},
   "source": [
    "- As expected, accuracy levels are low with a wide variance. The target varible does not lend itself to regression modeling and thus alot of the variance in the data cannot be accounted for by this modeling method. "
   ]
  },
  {
   "cell_type": "code",
   "execution_count": 44,
   "metadata": {
    "scrolled": true
   },
   "outputs": [
    {
     "name": "stdout",
     "output_type": "stream",
     "text": [
      "R-squared of the model in training set is: 0.31355914226845283\n",
      "-----Test set statistics-----\n",
      "R-squared of the model in test set is: 0.26593434668627536\n",
      "Mean absolute error of the prediction is: 0.814081082925504\n",
      "Mean squared error of the prediction is: 1.0854150025617075\n",
      "Root mean squared error of the prediction is: 1.041832521359219\n"
     ]
    }
   ],
   "source": [
    "def get_metrics(reg_model, x_train, y_train, x_test, y_test, y_preds_lrm): \n",
    "                                                                                #Calculate evaluation metrics for LRM\n",
    "    print(\"R-squared of the model in training set is: {}\".format(reg_model.score(x_train, y_train)))\n",
    "    print(\"-----Test set statistics-----\")\n",
    "    print(\"R-squared of the model in test set is: {}\".format(reg_model.score(x_test, y_test)))\n",
    "    print(\"Mean absolute error of the prediction is: {}\".format(mean_absolute_error(y_test, y_pred_lrm)))\n",
    "    print(\"Mean squared error of the prediction is: {}\".format(mse(y_test, y_pred_lrm)))\n",
    "    print(\"Root mean squared error of the prediction is: {}\".format(rmse(y_test, y_pred_lrm)))\n",
    "    #print(\"Mean absolute percentage error of the prediction is: {}\".format(np.mean(np.abs((y_test - y_pred_lrm) / y_test)) * 100))\n",
    "\n",
    "get_metrics(lrm,X_train,y_train,X_test,y_test,y_pred_lrm)\n"
   ]
  },
  {
   "cell_type": "markdown",
   "metadata": {},
   "source": [
    "- Although error metrics are low, the combination of poor accuracy and R score determine that linear regression modelingis the wrong choice for this target variable."
   ]
  },
  {
   "cell_type": "code",
   "execution_count": 45,
   "metadata": {
    "scrolled": false
   },
   "outputs": [
    {
     "data": {
      "image/png": "[encoded data removed]",
      "text/plain": [
       "<Figure size 1440x360 with 1 Axes>"
      ]
     },
     "metadata": {
      "needs_background": "light"
     },
     "output_type": "display_data"
    }
   ],
   "source": [
    "def get_predictplot(reg_model,y_test,y_preds): #visualize LRM predictions vs test data\n",
    "    plt.figure(figsize=(20,5))\n",
    "\n",
    "    plt.subplot(1,3,1)\n",
    "    plt.scatter(y_test, y_pred_lrm, color=\"red\")\n",
    "    plt.plot(y_test, y_test)\n",
    "    plt.title(reg_model, fontsize=30)\n",
    "    plt.xlabel(\"the feature (X)\", fontsize=20)\n",
    "    plt.ylabel(\"the target (Y)\", fontsize=20)\n",
    "    \n",
    "\n",
    "get_predictplot('Linear Regression', y_test, y_pred_lrm)"
   ]
  },
  {
   "cell_type": "markdown",
   "metadata": {},
   "source": [
    "## KNN Modeling"
   ]
  },
  {
   "cell_type": "markdown",
   "metadata": {},
   "source": [
    "- Since KNN is a classification technique, we may expect this method to perform more favorably than LRM."
   ]
  },
  {
   "cell_type": "code",
   "execution_count": 46,
   "metadata": {},
   "outputs": [],
   "source": [
    "X_train_knn, X_test_knn, y_train_knn, y_test_knn = train_test_split(X, Y, test_size = 0.2, random_state = 465)\n",
    "                                                                                  #split data 20% for testing holdout\n",
    "scaler = StandardScaler() #standardaize the training and testing data \n",
    "scaler.fit(X_train_knn)\n",
    "\n",
    "X_train_knn = scaler.transform(X_train_knn)  \n",
    "X_test_knn = scaler.transform(X_test_knn)"
   ]
  },
  {
   "cell_type": "markdown",
   "metadata": {},
   "source": [
    "- We create an aid to help us choose the K(neighbor) value that minimize the mean prediction error in the model."
   ]
  },
  {
   "cell_type": "code",
   "execution_count": 49,
   "metadata": {},
   "outputs": [],
   "source": [
    "error = []\n",
    "\n",
    "for i in range(1, 50): # Calculating error for K values between 1 and 50\n",
    "    knn = KNeighborsClassifier(n_neighbors=i,weights='distance')\n",
    "    knn.fit(X_train_knn, y_train_knn)\n",
    "    pred_i = knn.predict(X_test_knn)\n",
    "    error.append(np.mean(pred_i != y_test_knn))"
   ]
  },
  {
   "cell_type": "code",
   "execution_count": 50,
   "metadata": {
    "scrolled": false
   },
   "outputs": [
    {
     "data": {
      "text/plain": [
       "Text(0, 0.5, 'Mean Error')"
      ]
     },
     "execution_count": 50,
     "metadata": {},
     "output_type": "execute_result"
    },
    {
     "data": {
      "image/png": "[encoded data removed]",
      "text/plain": [
       "<Figure size 864x432 with 1 Axes>"
      ]
     },
     "metadata": {
      "needs_background": "light"
     },
     "output_type": "display_data"
    }
   ],
   "source": [
    "plt.figure(figsize=(12, 6)) #visualize mean prediction errors in relation to k number\n",
    "plt.plot(range(1, 50), error, color='red', linestyle='dashed', marker='o',  \n",
    "         markerfacecolor='blue', markersize=10)\n",
    "plt.title('Error Rate K Value')  \n",
    "plt.xlabel('K Value')  \n",
    "plt.ylabel('Mean Error')"
   ]
  },
  {
   "cell_type": "markdown",
   "metadata": {},
   "source": [
    "- Fromthe chart, it looks like K values of 28, 29, 31, and 34 are best to minimize prediciton errors."
   ]
  },
  {
   "cell_type": "code",
   "execution_count": 76,
   "metadata": {},
   "outputs": [
    {
     "data": {
      "text/plain": [
       "KNeighborsClassifier(algorithm='auto', leaf_size=30, metric='minkowski',\n",
       "           metric_params=None, n_jobs=None, n_neighbors=29, p=2,\n",
       "           weights='distance')"
      ]
     },
     "execution_count": 76,
     "metadata": {},
     "output_type": "execute_result"
    }
   ],
   "source": [
    "from sklearn.neighbors import KNeighborsClassifier  \n",
    "\n",
    "classifier = KNeighborsClassifier(n_neighbors=29,weights='distance') \n",
    "classifier.fit(X_train_knn, y_train_knn)  "
   ]
  },
  {
   "cell_type": "code",
   "execution_count": 77,
   "metadata": {
    "scrolled": true
   },
   "outputs": [
    {
     "name": "stdout",
     "output_type": "stream",
     "text": [
      "              precision    recall  f1-score   support\n",
      "\n",
      "           0       0.73      0.70      0.71        53\n",
      "           1       0.36      0.50      0.42        28\n",
      "           2       0.25      0.25      0.25        20\n",
      "           3       0.42      0.31      0.36        16\n",
      "           4       0.00      0.00      0.00         5\n",
      "\n",
      "   micro avg       0.50      0.50      0.50       122\n",
      "   macro avg       0.35      0.35      0.35       122\n",
      "weighted avg       0.49      0.50      0.49       122\n",
      "\n"
     ]
    }
   ],
   "source": [
    "y_pred_knn = classifier.predict(X_test_knn)\n",
    "print(classification_report(y_test_knn, y_pred_knn)) "
   ]
  },
  {
   "cell_type": "code",
   "execution_count": 78,
   "metadata": {},
   "outputs": [
    {
     "name": "stdout",
     "output_type": "stream",
     "text": [
      "KNN Accuracy: 0.41 (+/- 0.07)\n"
     ]
    }
   ],
   "source": [
    "knn_score = cross_val_score(classifier,X_train_knn, y_train_knn, cv=4) #calculate accuracy of the KNN classifier\n",
    "print(\"KNN Accuracy: %0.2f (+/- %0.2f)\" % (knn_score.mean(), knn_score.std() * 2))"
   ]
  },
  {
   "cell_type": "markdown",
   "metadata": {},
   "source": [
    "- While not a terrible high accuracy value, KNN prediction accuracy is much higher and less prone to variance than LRM"
   ]
  },
  {
   "cell_type": "code",
   "execution_count": 79,
   "metadata": {
    "scrolled": true
   },
   "outputs": [
    {
     "name": "stdout",
     "output_type": "stream",
     "text": [
      "R-squared of the model in training set is: 0.997946611909651\n",
      "-----Test set statistics-----\n",
      "R-squared of the model in test set is: 0.4672131147540984\n",
      "Mean absolute error of the prediction is: 0.814081082925504\n",
      "Mean squared error of the prediction is: 1.0854150025617075\n",
      "Root mean squared error of the prediction is: 1.041832521359219\n"
     ]
    }
   ],
   "source": [
    "get_metrics(knn,X_train_knn,y_train_knn,X_test_knn,y_test_knn,y_pred_knn)\n",
    "                                                                    #calculate evaluation metrics of KNN classifier"
   ]
  },
  {
   "cell_type": "markdown",
   "metadata": {},
   "source": [
    "- However accurate, the KNN model's R scores highlight a huge amount of overfit error in the model. To regulate this metric we could try different values of K our use a different selection of indicators."
   ]
  },
  {
   "cell_type": "markdown",
   "metadata": {},
   "source": [
    "## Conclusion\n",
    "\n",
    "    Over all, error evaluation between KNN and OLS remain similar. In this case the KNN modeling shows a better prediction accuracy value at 0.41 (+/- 0.07) than the Linear Regression accuracy at 0.29 (+/- 0.18). However, the KNN model's training R score equal to .997 and its correspoding testing R score at .467 signifies a large amount of overfitting error in the model. The linear model is less so with a train/test R score of .314/.266. \n",
    "\n",
    "    A visualization of the linear model's prediction vs test value plot shows that regression would be the incorrect prediction method for this data. Although the target data is a numerical value, it is not a continuous variable and would be better suited to a classifier modeling method. \n",
    "    \n",
    "    Since the target variable was categorical, the KNN classifier works best over a regression model. It may be a different case however if the target variable was a continuous numerical value or if we needed to predicted a value outside the bounds of our training dataset.  \n",
    "\n"
   ]
  },
  {
   "cell_type": "code",
   "execution_count": null,
   "metadata": {},
   "outputs": [],
   "source": []
  }
 ],
 "metadata": {
  "kernelspec": {
   "display_name": "Python 3",
   "language": "python",
   "name": "python3"
  },
  "language_info": {
   "codemirror_mode": {
    "name": "ipython",
    "version": 3
   },
   "file_extension": ".py",
   "mimetype": "text/x-python",
   "name": "python",
   "nbconvert_exporter": "python",
   "pygments_lexer": "ipython3",
   "version": "3.7.1"
  }
 },
 "nbformat": 4,
 "nbformat_minor": 2
}
