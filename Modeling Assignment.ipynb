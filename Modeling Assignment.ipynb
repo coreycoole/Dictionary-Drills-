{
 "cells": [
  {
   "cell_type": "markdown",
   "metadata": {},
   "source": [
    "### 1: Try to model the result of a coin toss. In your model, include any features that you think important in explaining the result. Discuss with your mentor about the pros and cons of adding too many features into your model."
   ]
  },
  {
   "cell_type": "code",
   "execution_count": 1,
   "metadata": {},
   "outputs": [],
   "source": [
    "import random\n",
    "\n",
    "def coinToss(num):\n",
    "    recordList, heads, tails = [], 0, 0 # multiple assignment\n",
    "    for i in range(num): # do this 'number' amount of times\n",
    "         flip = random.randint(0, 1)\n",
    "         if (flip == 0):\n",
    "              print(\"Heads\")\n",
    "              recordList.append(\"Heads\")\n",
    "         else:\n",
    "              print(\"Tails\")\n",
    "              recordList.append(\"Tails\")\n",
    "    print(str(recordList))\n",
    "    print(str(recordList.count(\"Heads\")) + str(recordList.count(\"Tails\")))"
   ]
  },
  {
   "cell_type": "code",
   "execution_count": 12,
   "metadata": {
    "scrolled": true
   },
   "outputs": [
    {
     "name": "stdout",
     "output_type": "stream",
     "text": [
      "Heads\n",
      "Tails\n",
      "['Heads', 'Tails']\n",
      "11\n"
     ]
    }
   ],
   "source": [
    "coinToss(2)"
   ]
  },
  {
   "cell_type": "markdown",
   "metadata": {},
   "source": [
    "- Assuming a perfectly fair coin:\n",
    "    \n",
    "    1: The force applied to the coin flip\n",
    "    \n",
    "    2: The spot on the coin the force was applied\n",
    "    \n",
    "    3: The angle the coin is lying on top on the hand in relation to the landing surface\n",
    "    \n",
    "    4: The height the coin is to the landing surface\n",
    "    \n",
    "    5: The weight of the coin\n",
    "    \n",
    "    6: The friction coefficient of the flipping finger and coefficient of drag through the air.\n",
    "    \n",
    "    7: The hardness,smoothness of the landing surface\n",
    "    \n",
    "    8: The weather conditions(windy, rainy, ect.)\n",
    "    \n",
    "    9: gravity and terminal velocity of a tossed coin\n",
    "  \n",
    "  \n",
    "- And many other factors to consider...\n",
    "\n",
    "\n",
    "- The more features that are incorporated into the model, the more testing that needs to be done such that we can quantify the feature's magnitude of effect upon the final result. Including only the most relevant features in our model ensures that we make the most efficient use of the available time and computational power. "
   ]
  },
  {
   "cell_type": "markdown",
   "metadata": {},
   "source": [
    "### 2: If you ever used Netflix, you should already have realized that it provides some recommendations for you to watch. In data science, this is an example of the so called recommendations systems. Read this non-technical blog post of Netflix about how they model their recommendations systems. Then, derive the features they use in their recommendations engines and discuss what else can be incorporated into this model."
   ]
  },
  {
   "cell_type": "markdown",
   "metadata": {},
   "source": [
    "- Netflix recommendation features include customer viewing histories, content ratings, similar customer profiles, content information like genre, categories, release year. Netflix also records and analyzes the time of day a user accesses content, the devices the customer uses to access Netflix, as well as how long the user spends engaged in content. Netflic does not incorporate demographic information like age or gender as part of their recommendation process. \n",
    "- I feel it would be very powerful feature if Netflix were to team up with and share data with either Facebook, Twitter, Movie theatre or movie review websites, in this way Netflic could incorporate a larger amount of data about public interest into content categories as well as begin to analyze the success of content that has been released to the public via theatres. \n",
    "- We may also like to see Netflix include a location based feature that analyzes patterns of content categorized by area, as well as a feature that analyzes content with the same actors or actresses. "
   ]
  },
  {
   "cell_type": "code",
   "execution_count": null,
   "metadata": {},
   "outputs": [],
   "source": []
  }
 ],
 "metadata": {
  "kernelspec": {
   "display_name": "Python 3",
   "language": "python",
   "name": "python3"
  },
  "language_info": {
   "codemirror_mode": {
    "name": "ipython",
    "version": 3
   },
   "file_extension": ".py",
   "mimetype": "text/x-python",
   "name": "python",
   "nbconvert_exporter": "python",
   "pygments_lexer": "ipython3",
   "version": "3.7.1"
  }
 },
 "nbformat": 4,
 "nbformat_minor": 2
}
