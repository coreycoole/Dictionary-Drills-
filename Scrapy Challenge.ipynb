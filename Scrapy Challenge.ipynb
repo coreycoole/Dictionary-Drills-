{
 "cells": [
  {
   "cell_type": "markdown",
   "metadata": {},
   "source": [
    "Challenge\n",
    "Do a little scraping or API-calling of your own. Pick a new website and see what you can get out of it. Expect that you'll run into bugs and blind alleys, and rely on your mentor to help you get through.\n",
    "\n",
    "Formally, your goal is to write a scraper that will:\n",
    "\n",
    "1) Return specific pieces of information (rather than just downloading a whole page)\n",
    "\n",
    "2) Iterate over multiple pages/queries\n",
    "\n",
    "3) Save the data to your computer\n",
    "\n",
    "Once you have your data, compute some statistical summaries and/or visualizations that give you some new insights into your scraping topic of interest. Write up a report from scraping code to summary and share it with your mentor."
   ]
  },
  {
   "cell_type": "code",
   "execution_count": 5,
   "metadata": {},
   "outputs": [
    {
     "name": "stdout",
     "output_type": "stream",
     "text": [
      "Success!\n"
     ]
    }
   ],
   "source": [
    "# Importing in each cell because of the kernel restarts.\n",
    "import scrapy\n",
    "from scrapy.crawler import CrawlerProcess\n",
    "from scrapy.spiders import Rule\n",
    "from scrapy.linkextractors import LinkExtractor\n",
    "\n",
    "\n",
    "class CLSpider(scrapy.Spider):\n",
    "    # Naming the spider is important if you are running more than one spider of\n",
    "    # this class simultaneously.\n",
    "    name = \"CL\"\n",
    "    \n",
    "    # URL(s) to start with.\n",
    "    allowed_domains = [\"phoenix.craigslist.org\"]\n",
    "    start_urls = [\n",
    "        'https://phoenix.craigslist.org/search/apa?query=tempe&min_bedrooms=1&max_bedrooms=1&min_bathrooms=1&max_bathrooms=1&availabilityMode=0&housing_type=1&laundry=1&parking=1&sale_date=all+dates',\n",
    "    ]\n",
    "    \n",
    "    rules = (Rule (LinkExtractor(allow=(\"index\\d00\\.html\", ),restrict_xpaths=('//p[@id=\"nextpage\"]',)), callback=\"parse_items\", follow= True),)\n",
    "\n",
    "    # Use XPath to parse the response we get.\n",
    "    def parse(self, response):\n",
    "        \n",
    "        # Iterate over every <article> element on the page.\n",
    "        for posting in response.xpath('//p'):\n",
    "            \n",
    "            # Yield a dictionary with the values we want.\n",
    "            yield {\n",
    "                # This is the code to choose what we want to extract\n",
    "                # You can modify this with other Xpath expressions to extract other information from the site\n",
    "                'title': posting.xpath('a[@class=\"result-title hdrlnk\"]/text()').extract_first(),\n",
    "                'date': posting.xpath('time[@class=\"result-date\"]/text()').extract_first(),\n",
    "                'price': posting.xpath('span/span[@class=\"result-price\"]/text()').extract_first()\n",
    "            }\n",
    "        \n",
    "        # follow next page links\n",
    "        next_page = response.xpath('.//a[@class=\"button next\"]/@href').extract()\n",
    "        if next_page:\n",
    "            next_href = next_page[0]\n",
    "            next_page_url = 'http://phoenix.craigslist.org' + next_href\n",
    "            request = scrapy.Request(url=next_page_url)\n",
    "            yield request  \n",
    "\n",
    "# Tell the script how to run the crawler by passing in settings.\n",
    "process = CrawlerProcess({\n",
    "    'FEED_FORMAT': 'json',         # Store data in JSON format.\n",
    "    'FEED_URI': 'tempe_apt.json',  # Name our storage file.\n",
    "    'ROBOTSTXT_OBEY': True,\n",
    "    'USER_AGENT': 'ThinkfulDataScienceBootcamp (thinkful.com)',\n",
    "    'AUTOTHROTTLE_ENABLED': True,\n",
    "    'HTTPCACHE_ENABLED': True,\n",
    "    'LOG_ENABLED': False           # Turn off logging for now.\n",
    "})\n",
    "\n",
    "# Start the crawler with our spider.\n",
    "process.crawl(CLSpider)\n",
    "process.start()\n",
    "print('Success!')"
   ]
  },
  {
   "cell_type": "code",
   "execution_count": 6,
   "metadata": {},
   "outputs": [
    {
     "name": "stdout",
     "output_type": "stream",
     "text": [
      "(1234, 3)\n"
     ]
    },
    {
     "data": {
      "text/html": [
       "<div>\n",
       "<style scoped>\n",
       "    .dataframe tbody tr th:only-of-type {\n",
       "        vertical-align: middle;\n",
       "    }\n",
       "\n",
       "    .dataframe tbody tr th {\n",
       "        vertical-align: top;\n",
       "    }\n",
       "\n",
       "    .dataframe thead th {\n",
       "        text-align: right;\n",
       "    }\n",
       "</style>\n",
       "<table border=\"1\" class=\"dataframe\">\n",
       "  <thead>\n",
       "    <tr style=\"text-align: right;\">\n",
       "      <th></th>\n",
       "      <th>date</th>\n",
       "      <th>price</th>\n",
       "      <th>title</th>\n",
       "    </tr>\n",
       "  </thead>\n",
       "  <tbody>\n",
       "    <tr>\n",
       "      <th>0</th>\n",
       "      <td>Aug 26</td>\n",
       "      <td>$1360</td>\n",
       "      <td>Pet Friendly, featuring a Large Pet Park and D...</td>\n",
       "    </tr>\n",
       "    <tr>\n",
       "      <th>1</th>\n",
       "      <td>Aug 26</td>\n",
       "      <td>$1035</td>\n",
       "      <td>Top of the Line Exercise Equipment, Private Ba...</td>\n",
       "    </tr>\n",
       "    <tr>\n",
       "      <th>2</th>\n",
       "      <td>Aug 26</td>\n",
       "      <td>$1049</td>\n",
       "      <td>Great price in this local/Washer/Dryer Include...</td>\n",
       "    </tr>\n",
       "    <tr>\n",
       "      <th>3</th>\n",
       "      <td>Aug 26</td>\n",
       "      <td>$1256</td>\n",
       "      <td>Offering up to one month free, Resort Inspired...</td>\n",
       "    </tr>\n",
       "    <tr>\n",
       "      <th>4</th>\n",
       "      <td>Aug 26</td>\n",
       "      <td>$1077</td>\n",
       "      <td>Great price in this local/Washer/Dryer Included</td>\n",
       "    </tr>\n",
       "  </tbody>\n",
       "</table>\n",
       "</div>"
      ],
      "text/plain": [
       "     date  price                                              title\n",
       "0  Aug 26  $1360  Pet Friendly, featuring a Large Pet Park and D...\n",
       "1  Aug 26  $1035  Top of the Line Exercise Equipment, Private Ba...\n",
       "2  Aug 26  $1049  Great price in this local/Washer/Dryer Include...\n",
       "3  Aug 26  $1256  Offering up to one month free, Resort Inspired...\n",
       "4  Aug 26  $1077    Great price in this local/Washer/Dryer Included"
      ]
     },
     "execution_count": 6,
     "metadata": {},
     "output_type": "execute_result"
    }
   ],
   "source": [
    "import pandas as pd\n",
    "\n",
    "# Turning JSON into Data Frame\n",
    "df_apt = pd.read_json('tempe_apt.json')\n",
    "print(df_apt.shape)\n",
    "df_apt.head()\n"
   ]
  },
  {
   "cell_type": "markdown",
   "metadata": {},
   "source": [
    "# Obervation Specifications"
   ]
  },
  {
   "cell_type": "markdown",
   "metadata": {},
   "source": [
    "- housing type: apartment\n",
    "- bedroom count: one \n",
    "- washer and dryer in unit\n",
    "- parking: carport"
   ]
  },
  {
   "cell_type": "markdown",
   "metadata": {},
   "source": [
    "# Data Cleaning, Missingness"
   ]
  },
  {
   "cell_type": "code",
   "execution_count": 7,
   "metadata": {},
   "outputs": [
    {
     "data": {
      "text/html": [
       "<div>\n",
       "<style scoped>\n",
       "    .dataframe tbody tr th:only-of-type {\n",
       "        vertical-align: middle;\n",
       "    }\n",
       "\n",
       "    .dataframe tbody tr th {\n",
       "        vertical-align: top;\n",
       "    }\n",
       "\n",
       "    .dataframe thead th {\n",
       "        text-align: right;\n",
       "    }\n",
       "</style>\n",
       "<table border=\"1\" class=\"dataframe\">\n",
       "  <thead>\n",
       "    <tr style=\"text-align: right;\">\n",
       "      <th></th>\n",
       "      <th>date</th>\n",
       "      <th>price</th>\n",
       "      <th>title</th>\n",
       "    </tr>\n",
       "  </thead>\n",
       "  <tbody>\n",
       "    <tr>\n",
       "      <th>0</th>\n",
       "      <td>Aug 26</td>\n",
       "      <td>1360.0</td>\n",
       "      <td>Pet Friendly, featuring a Large Pet Park and D...</td>\n",
       "    </tr>\n",
       "    <tr>\n",
       "      <th>1</th>\n",
       "      <td>Aug 26</td>\n",
       "      <td>1035.0</td>\n",
       "      <td>Top of the Line Exercise Equipment, Private Ba...</td>\n",
       "    </tr>\n",
       "    <tr>\n",
       "      <th>2</th>\n",
       "      <td>Aug 26</td>\n",
       "      <td>1049.0</td>\n",
       "      <td>Great price in this local/Washer/Dryer Include...</td>\n",
       "    </tr>\n",
       "    <tr>\n",
       "      <th>3</th>\n",
       "      <td>Aug 26</td>\n",
       "      <td>1256.0</td>\n",
       "      <td>Offering up to one month free, Resort Inspired...</td>\n",
       "    </tr>\n",
       "    <tr>\n",
       "      <th>4</th>\n",
       "      <td>Aug 26</td>\n",
       "      <td>1077.0</td>\n",
       "      <td>Great price in this local/Washer/Dryer Included</td>\n",
       "    </tr>\n",
       "  </tbody>\n",
       "</table>\n",
       "</div>"
      ],
      "text/plain": [
       "     date   price                                              title\n",
       "0  Aug 26  1360.0  Pet Friendly, featuring a Large Pet Park and D...\n",
       "1  Aug 26  1035.0  Top of the Line Exercise Equipment, Private Ba...\n",
       "2  Aug 26  1049.0  Great price in this local/Washer/Dryer Include...\n",
       "3  Aug 26  1256.0  Offering up to one month free, Resort Inspired...\n",
       "4  Aug 26  1077.0    Great price in this local/Washer/Dryer Included"
      ]
     },
     "execution_count": 7,
     "metadata": {},
     "output_type": "execute_result"
    }
   ],
   "source": [
    "import re\n",
    " \n",
    "# Scrub the dollar sign away\n",
    "df_apt.price = df_apt.price.map(lambda x: None if x == None else int(re.sub('\\$', '', str(x))))\n",
    "df_apt.head()"
   ]
  },
  {
   "cell_type": "code",
   "execution_count": 8,
   "metadata": {},
   "outputs": [
    {
     "data": {
      "text/plain": [
       "date      object\n",
       "price    float64\n",
       "title     object\n",
       "dtype: object"
      ]
     },
     "execution_count": 8,
     "metadata": {},
     "output_type": "execute_result"
    }
   ],
   "source": [
    "# Check data types\n",
    "df_apt.dtypes"
   ]
  },
  {
   "cell_type": "code",
   "execution_count": 10,
   "metadata": {},
   "outputs": [
    {
     "data": {
      "text/html": [
       "<div>\n",
       "<style scoped>\n",
       "    .dataframe tbody tr th:only-of-type {\n",
       "        vertical-align: middle;\n",
       "    }\n",
       "\n",
       "    .dataframe tbody tr th {\n",
       "        vertical-align: top;\n",
       "    }\n",
       "\n",
       "    .dataframe thead th {\n",
       "        text-align: right;\n",
       "    }\n",
       "</style>\n",
       "<table border=\"1\" class=\"dataframe\">\n",
       "  <thead>\n",
       "    <tr style=\"text-align: right;\">\n",
       "      <th></th>\n",
       "      <th>Total</th>\n",
       "      <th>Percent</th>\n",
       "    </tr>\n",
       "  </thead>\n",
       "  <tbody>\n",
       "    <tr>\n",
       "      <th>title</th>\n",
       "      <td>2</td>\n",
       "      <td>0.001621</td>\n",
       "    </tr>\n",
       "    <tr>\n",
       "      <th>price</th>\n",
       "      <td>2</td>\n",
       "      <td>0.001621</td>\n",
       "    </tr>\n",
       "    <tr>\n",
       "      <th>date</th>\n",
       "      <td>2</td>\n",
       "      <td>0.001621</td>\n",
       "    </tr>\n",
       "  </tbody>\n",
       "</table>\n",
       "</div>"
      ],
      "text/plain": [
       "       Total   Percent\n",
       "title      2  0.001621\n",
       "price      2  0.001621\n",
       "date       2  0.001621"
      ]
     },
     "execution_count": 10,
     "metadata": {},
     "output_type": "execute_result"
    }
   ],
   "source": [
    "total_missing = df_apt.isnull().sum().sort_values(ascending=False) \n",
    "                    #find the total null data values in each column based on percentage of data points in each column \n",
    "\n",
    "percent_missing = (df_apt.isnull().sum()/df_apt.isnull().count()).sort_values(ascending=False)\n",
    "\n",
    "missing_data = pd.concat([total_missing, percent_missing], axis=1, keys=['Total', 'Percent'])\n",
    "\n",
    "missing_data"
   ]
  },
  {
   "cell_type": "code",
   "execution_count": 12,
   "metadata": {},
   "outputs": [],
   "source": [
    "df_apt = df_apt.dropna()"
   ]
  },
  {
   "cell_type": "markdown",
   "metadata": {},
   "source": [
    "# Analysis"
   ]
  },
  {
   "cell_type": "code",
   "execution_count": 33,
   "metadata": {
    "scrolled": true
   },
   "outputs": [
    {
     "name": "stdout",
     "output_type": "stream",
     "text": [
      "Average Aparment Price: $1215\n",
      "\n",
      "Apartment Price Standard Deviation: +/-$251\n",
      "\n",
      "Apartment Price Median: +/-$1145\n"
     ]
    }
   ],
   "source": [
    "print('Average Aparment Price: ${0:.4g}\\n'.format(df_apt.price.mean()))\n",
    "print('Apartment Price Standard Deviation: +/-${0:.3g}\\n'.format(df_apt.price.std()))\n",
    "print('Apartment Price Median: +/-${0:.4g}'.format(df_apt.price.median()))"
   ]
  },
  {
   "cell_type": "code",
   "execution_count": 38,
   "metadata": {},
   "outputs": [
    {
     "data": {
      "image/png": "[encoded data removed]",
      "text/plain": [
       "<Figure size 432x288 with 1 Axes>"
      ]
     },
     "metadata": {
      "needs_background": "light"
     },
     "output_type": "display_data"
    }
   ],
   "source": [
    "import matplotlib.pyplot as plt\n",
    "import seaborn as sns\n",
    "sns.set_style('darkgrid')\n",
    "%matplotlib inline\n",
    "\n",
    "plt.hist(df_apt.price, bins=50)\n",
    "plt.xlabel('One Bedroom Apartment Prices')\n",
    "plt.ylabel('Price')\n",
    "plt.title('Price of One Bedroom Apartments on Tempe Craigslist')\n",
    "plt.show()"
   ]
  },
  {
   "cell_type": "markdown",
   "metadata": {},
   "source": [
    "# Summary"
   ]
  },
  {
   "cell_type": "markdown",
   "metadata": {},
   "source": [
    "Scrapy code worked quite well once I had the correct code written to follow the \"next page\" links, all of the data that could be scraped was collected, totaling 1234 observations. This allowed for a confident estimate of the average price of one bedroom apartments listed on the regional craigslist portal. I am confident I could easily apply this same method to compare apartment prices across multiple areas/cities.  "
   ]
  },
  {
   "cell_type": "code",
   "execution_count": null,
   "metadata": {},
   "outputs": [],
   "source": []
  }
 ],
 "metadata": {
  "kernelspec": {
   "display_name": "Python 3",
   "language": "python",
   "name": "python3"
  },
  "language_info": {
   "codemirror_mode": {
    "name": "ipython",
    "version": 3
   },
   "file_extension": ".py",
   "mimetype": "text/x-python",
   "name": "python",
   "nbconvert_exporter": "python",
   "pygments_lexer": "ipython3",
   "version": "3.7.1"
  }
 },
 "nbformat": 4,
 "nbformat_minor": 2
}
