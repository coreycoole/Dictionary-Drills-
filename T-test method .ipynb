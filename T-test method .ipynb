{
 "cells": [
  {
   "cell_type": "code",
   "execution_count": 1,
   "metadata": {},
   "outputs": [
    {
     "name": "stdout",
     "output_type": "stream",
     "text": [
      "Example 1: -19.78141420187361\n",
      "Example 2: 6.658536585365854\n",
      "Example 3: 3.7139067635410377\n"
     ]
    }
   ],
   "source": [
    "def t_stat(y1,y2,s1,s2,N1,N2):\n",
    "    t = (y1 - y2)/(((s1**2)/N1 + (s2**2)/N2)**(1/2))\n",
    "    return(t)\n",
    "\n",
    "print(\"Example 1: {}\".format(t_stat(5,8,1,3,200,500)))\n",
    "print(\"Example 2: {}\".format(t_stat(1090,999,400,30,900,100)))\n",
    "print(\"Example 3: {}\".format(t_stat(45,40,45,40,2000,2000)))"
   ]
  },
  {
   "cell_type": "code",
   "execution_count": null,
   "metadata": {},
   "outputs": [],
   "source": []
  }
 ],
 "metadata": {
  "kernelspec": {
   "display_name": "Python 3",
   "language": "python",
   "name": "python3"
  },
  "language_info": {
   "codemirror_mode": {
    "name": "ipython",
    "version": 3
   },
   "file_extension": ".py",
   "mimetype": "text/x-python",
   "name": "python",
   "nbconvert_exporter": "python",
   "pygments_lexer": "ipython3",
   "version": "3.7.1"
  }
 },
 "nbformat": 4,
 "nbformat_minor": 2
}
